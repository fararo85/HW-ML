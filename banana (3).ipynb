{
  "nbformat": 4,
  "nbformat_minor": 0,
  "metadata": {
    "colab": {
      "provenance": []
    },
    "kernelspec": {
      "name": "python3",
      "display_name": "Python 3"
    },
    "language_info": {
      "name": "python"
    },
    "widgets": {
      "application/vnd.jupyter.widget-state+json": {
        "81fd414280bb499f9578f1ee846e2824": {
          "model_module": "@jupyter-widgets/controls",
          "model_name": "HBoxModel",
          "model_module_version": "1.5.0",
          "state": {
            "_dom_classes": [],
            "_model_module": "@jupyter-widgets/controls",
            "_model_module_version": "1.5.0",
            "_model_name": "HBoxModel",
            "_view_count": null,
            "_view_module": "@jupyter-widgets/controls",
            "_view_module_version": "1.5.0",
            "_view_name": "HBoxView",
            "box_style": "",
            "children": [
              "IPY_MODEL_b3874a2796464e66a1e19277b4dccee2",
              "IPY_MODEL_5bc768583ab54095bca44d56b785db78",
              "IPY_MODEL_bc577c26ffe14511a2d2404f0c99d113"
            ],
            "layout": "IPY_MODEL_c0107fc816534dad87505c906b66bfff"
          }
        },
        "b3874a2796464e66a1e19277b4dccee2": {
          "model_module": "@jupyter-widgets/controls",
          "model_name": "HTMLModel",
          "model_module_version": "1.5.0",
          "state": {
            "_dom_classes": [],
            "_model_module": "@jupyter-widgets/controls",
            "_model_module_version": "1.5.0",
            "_model_name": "HTMLModel",
            "_view_count": null,
            "_view_module": "@jupyter-widgets/controls",
            "_view_module_version": "1.5.0",
            "_view_name": "HTMLView",
            "description": "",
            "description_tooltip": null,
            "layout": "IPY_MODEL_f9cf882ba797482793e27422050fcdd1",
            "placeholder": "​",
            "style": "IPY_MODEL_f35a5ac98c6c43d0acc93a9dda834061",
            "value": "100%"
          }
        },
        "5bc768583ab54095bca44d56b785db78": {
          "model_module": "@jupyter-widgets/controls",
          "model_name": "FloatProgressModel",
          "model_module_version": "1.5.0",
          "state": {
            "_dom_classes": [],
            "_model_module": "@jupyter-widgets/controls",
            "_model_module_version": "1.5.0",
            "_model_name": "FloatProgressModel",
            "_view_count": null,
            "_view_module": "@jupyter-widgets/controls",
            "_view_module_version": "1.5.0",
            "_view_name": "ProgressView",
            "bar_style": "success",
            "description": "",
            "description_tooltip": null,
            "layout": "IPY_MODEL_34e8e586b04a4f0abf974a2ea4802918",
            "max": 100,
            "min": 0,
            "orientation": "horizontal",
            "style": "IPY_MODEL_ea1d0945b90e4f7a8200257370d79e51",
            "value": 100
          }
        },
        "bc577c26ffe14511a2d2404f0c99d113": {
          "model_module": "@jupyter-widgets/controls",
          "model_name": "HTMLModel",
          "model_module_version": "1.5.0",
          "state": {
            "_dom_classes": [],
            "_model_module": "@jupyter-widgets/controls",
            "_model_module_version": "1.5.0",
            "_model_name": "HTMLModel",
            "_view_count": null,
            "_view_module": "@jupyter-widgets/controls",
            "_view_module_version": "1.5.0",
            "_view_name": "HTMLView",
            "description": "",
            "description_tooltip": null,
            "layout": "IPY_MODEL_f85130ea970b43e2b08865cbc2d06b9b",
            "placeholder": "​",
            "style": "IPY_MODEL_f6b2def081c6422fbfecd28ea052868d",
            "value": " 100/100 [01:30&lt;00:00,  1.29it/s]"
          }
        },
        "c0107fc816534dad87505c906b66bfff": {
          "model_module": "@jupyter-widgets/base",
          "model_name": "LayoutModel",
          "model_module_version": "1.2.0",
          "state": {
            "_model_module": "@jupyter-widgets/base",
            "_model_module_version": "1.2.0",
            "_model_name": "LayoutModel",
            "_view_count": null,
            "_view_module": "@jupyter-widgets/base",
            "_view_module_version": "1.2.0",
            "_view_name": "LayoutView",
            "align_content": null,
            "align_items": null,
            "align_self": null,
            "border": null,
            "bottom": null,
            "display": null,
            "flex": null,
            "flex_flow": null,
            "grid_area": null,
            "grid_auto_columns": null,
            "grid_auto_flow": null,
            "grid_auto_rows": null,
            "grid_column": null,
            "grid_gap": null,
            "grid_row": null,
            "grid_template_areas": null,
            "grid_template_columns": null,
            "grid_template_rows": null,
            "height": null,
            "justify_content": null,
            "justify_items": null,
            "left": null,
            "margin": null,
            "max_height": null,
            "max_width": null,
            "min_height": null,
            "min_width": null,
            "object_fit": null,
            "object_position": null,
            "order": null,
            "overflow": null,
            "overflow_x": null,
            "overflow_y": null,
            "padding": null,
            "right": null,
            "top": null,
            "visibility": null,
            "width": null
          }
        },
        "f9cf882ba797482793e27422050fcdd1": {
          "model_module": "@jupyter-widgets/base",
          "model_name": "LayoutModel",
          "model_module_version": "1.2.0",
          "state": {
            "_model_module": "@jupyter-widgets/base",
            "_model_module_version": "1.2.0",
            "_model_name": "LayoutModel",
            "_view_count": null,
            "_view_module": "@jupyter-widgets/base",
            "_view_module_version": "1.2.0",
            "_view_name": "LayoutView",
            "align_content": null,
            "align_items": null,
            "align_self": null,
            "border": null,
            "bottom": null,
            "display": null,
            "flex": null,
            "flex_flow": null,
            "grid_area": null,
            "grid_auto_columns": null,
            "grid_auto_flow": null,
            "grid_auto_rows": null,
            "grid_column": null,
            "grid_gap": null,
            "grid_row": null,
            "grid_template_areas": null,
            "grid_template_columns": null,
            "grid_template_rows": null,
            "height": null,
            "justify_content": null,
            "justify_items": null,
            "left": null,
            "margin": null,
            "max_height": null,
            "max_width": null,
            "min_height": null,
            "min_width": null,
            "object_fit": null,
            "object_position": null,
            "order": null,
            "overflow": null,
            "overflow_x": null,
            "overflow_y": null,
            "padding": null,
            "right": null,
            "top": null,
            "visibility": null,
            "width": null
          }
        },
        "f35a5ac98c6c43d0acc93a9dda834061": {
          "model_module": "@jupyter-widgets/controls",
          "model_name": "DescriptionStyleModel",
          "model_module_version": "1.5.0",
          "state": {
            "_model_module": "@jupyter-widgets/controls",
            "_model_module_version": "1.5.0",
            "_model_name": "DescriptionStyleModel",
            "_view_count": null,
            "_view_module": "@jupyter-widgets/base",
            "_view_module_version": "1.2.0",
            "_view_name": "StyleView",
            "description_width": ""
          }
        },
        "34e8e586b04a4f0abf974a2ea4802918": {
          "model_module": "@jupyter-widgets/base",
          "model_name": "LayoutModel",
          "model_module_version": "1.2.0",
          "state": {
            "_model_module": "@jupyter-widgets/base",
            "_model_module_version": "1.2.0",
            "_model_name": "LayoutModel",
            "_view_count": null,
            "_view_module": "@jupyter-widgets/base",
            "_view_module_version": "1.2.0",
            "_view_name": "LayoutView",
            "align_content": null,
            "align_items": null,
            "align_self": null,
            "border": null,
            "bottom": null,
            "display": null,
            "flex": null,
            "flex_flow": null,
            "grid_area": null,
            "grid_auto_columns": null,
            "grid_auto_flow": null,
            "grid_auto_rows": null,
            "grid_column": null,
            "grid_gap": null,
            "grid_row": null,
            "grid_template_areas": null,
            "grid_template_columns": null,
            "grid_template_rows": null,
            "height": null,
            "justify_content": null,
            "justify_items": null,
            "left": null,
            "margin": null,
            "max_height": null,
            "max_width": null,
            "min_height": null,
            "min_width": null,
            "object_fit": null,
            "object_position": null,
            "order": null,
            "overflow": null,
            "overflow_x": null,
            "overflow_y": null,
            "padding": null,
            "right": null,
            "top": null,
            "visibility": null,
            "width": null
          }
        },
        "ea1d0945b90e4f7a8200257370d79e51": {
          "model_module": "@jupyter-widgets/controls",
          "model_name": "ProgressStyleModel",
          "model_module_version": "1.5.0",
          "state": {
            "_model_module": "@jupyter-widgets/controls",
            "_model_module_version": "1.5.0",
            "_model_name": "ProgressStyleModel",
            "_view_count": null,
            "_view_module": "@jupyter-widgets/base",
            "_view_module_version": "1.2.0",
            "_view_name": "StyleView",
            "bar_color": null,
            "description_width": ""
          }
        },
        "f85130ea970b43e2b08865cbc2d06b9b": {
          "model_module": "@jupyter-widgets/base",
          "model_name": "LayoutModel",
          "model_module_version": "1.2.0",
          "state": {
            "_model_module": "@jupyter-widgets/base",
            "_model_module_version": "1.2.0",
            "_model_name": "LayoutModel",
            "_view_count": null,
            "_view_module": "@jupyter-widgets/base",
            "_view_module_version": "1.2.0",
            "_view_name": "LayoutView",
            "align_content": null,
            "align_items": null,
            "align_self": null,
            "border": null,
            "bottom": null,
            "display": null,
            "flex": null,
            "flex_flow": null,
            "grid_area": null,
            "grid_auto_columns": null,
            "grid_auto_flow": null,
            "grid_auto_rows": null,
            "grid_column": null,
            "grid_gap": null,
            "grid_row": null,
            "grid_template_areas": null,
            "grid_template_columns": null,
            "grid_template_rows": null,
            "height": null,
            "justify_content": null,
            "justify_items": null,
            "left": null,
            "margin": null,
            "max_height": null,
            "max_width": null,
            "min_height": null,
            "min_width": null,
            "object_fit": null,
            "object_position": null,
            "order": null,
            "overflow": null,
            "overflow_x": null,
            "overflow_y": null,
            "padding": null,
            "right": null,
            "top": null,
            "visibility": null,
            "width": null
          }
        },
        "f6b2def081c6422fbfecd28ea052868d": {
          "model_module": "@jupyter-widgets/controls",
          "model_name": "DescriptionStyleModel",
          "model_module_version": "1.5.0",
          "state": {
            "_model_module": "@jupyter-widgets/controls",
            "_model_module_version": "1.5.0",
            "_model_name": "DescriptionStyleModel",
            "_view_count": null,
            "_view_module": "@jupyter-widgets/base",
            "_view_module_version": "1.2.0",
            "_view_name": "StyleView",
            "description_width": ""
          }
        }
      }
    }
  },
  "cells": [
    {
      "cell_type": "code",
      "execution_count": null,
      "metadata": {
        "colab": {
          "base_uri": "https://localhost:8080/"
        },
        "id": "6f_sqLeFca8v",
        "outputId": "0330dd0c-3f5c-41e0-e4ee-5f10c4d6ab29"
      },
      "outputs": [
        {
          "output_type": "stream",
          "name": "stdout",
          "text": [
            "       Size    Weight  Sweetness  Softness  HarvestTime  Ripeness   Acidity  \\\n",
            "0 -1.924968  0.468078   3.077832 -1.472177     0.294799  2.435570  0.271290   \n",
            "1 -2.409751  0.486870   0.346921 -2.495099    -0.892213  2.067549  0.307325   \n",
            "2 -0.357607  1.483176   1.568452 -2.645145    -0.647267  3.090643  1.427322   \n",
            "3 -0.868524  1.566201   1.889605 -1.273761    -1.006278  1.873001  0.477862   \n",
            "4  0.651825  1.319199  -0.022459 -1.209709    -1.430692  1.078345  2.812442   \n",
            "\n",
            "  Quality  \n",
            "0    Good  \n",
            "1    Good  \n",
            "2    Good  \n",
            "3    Good  \n",
            "4    Good  \n"
          ]
        }
      ],
      "source": [
        "import pandas as pd\n",
        "from sklearn.model_selection import train_test_split\n",
        "from sklearn.preprocessing import StandardScaler\n",
        "from sklearn.linear_model import LogisticRegression\n",
        "from sklearn.metrics import classification_report\n",
        "\n",
        "# Загрузим данные\n",
        "# Предположим, что данные находятся в файле 'banana_quality.csv'\n",
        "df = pd.read_csv('banana_quality.csv')\n",
        "\n",
        "# Посмотрим на первые несколько строк данных\n",
        "print(df.head())\n"
      ]
    },
    {
      "cell_type": "code",
      "source": [
        "\n",
        "# Преобразуем категориальные переменные, если это необходимо\n",
        "df['Quality'] = df['Quality'].replace({'Good': 1, 'Bad': 0})\n",
        "\n",
        "# Разделим данные на признаки (X) и целевую переменную (y)\n",
        "X = df.drop('Quality', axis=1)\n",
        "y = df['Quality']\n",
        "\n",
        "# Разделим данные на обучающую и тестовую выборки\n",
        "X_train, X_test, y_train, y_test = train_test_split(X, y, test_size=0.2, random_state=42)\n",
        "\n",
        "# Стандартизируем данные\n",
        "scaler = StandardScaler()\n",
        "X_train_scaled = scaler.fit_transform(X_train)\n",
        "X_test_scaled = scaler.transform(X_test)\n",
        "print(X_train_scaled)\n",
        "print(X_test_scaled)"
      ],
      "metadata": {
        "colab": {
          "base_uri": "https://localhost:8080/"
        },
        "id": "6p8BCRrrd9vY",
        "outputId": "d1a6b7c8-4eb1-4d59-e555-e8641f5703ff"
      },
      "execution_count": null,
      "outputs": [
        {
          "output_type": "stream",
          "name": "stdout",
          "text": [
            "[[-0.12871651  1.07045442  1.51504861 ...  0.18683435  0.47498861\n",
            "   1.57871862]\n",
            " [ 1.04856399  0.03601823 -0.44882431 ...  0.59268137  0.07537606\n",
            "  -0.90576172]\n",
            " [ 1.43560469 -0.97236708 -0.54924477 ...  1.23779229 -0.15793015\n",
            "  -0.87537607]\n",
            " ...\n",
            " [-0.73640927  1.12540046  1.80323068 ... -0.8718702  -0.17849007\n",
            "   0.2863105 ]\n",
            " [ 0.93684588 -0.34610155 -2.04862932 ... -0.03617002 -1.24357675\n",
            "   1.45495391]\n",
            " [-0.28951743 -2.69859376 -1.26825281 ... -1.29264642 -1.00278099\n",
            "  -0.69562051]]\n",
            "[[-0.20308691 -0.36750409 -0.31578825 ...  0.30551022  0.72662353\n",
            "  -0.79491469]\n",
            " [-0.67231714 -1.01036267 -0.31759751 ...  0.36553814  2.24192852\n",
            "  -2.15395337]\n",
            " [ 0.33928839  0.98793417  2.84839449 ... -0.87747582 -0.86829228\n",
            "   1.11355193]\n",
            " ...\n",
            " [-1.00847385  2.10782068  1.1715271  ... -0.15286376  0.4624638\n",
            "  -0.4202521 ]\n",
            " [-0.01880449 -0.46380483 -0.45616072 ...  1.20410475 -1.98258268\n",
            "   0.91252106]\n",
            " [ 1.81009259 -0.69797805 -2.53789133 ... -1.6975016  -1.65913529\n",
            "   0.07714879]]\n"
          ]
        }
      ]
    },
    {
      "cell_type": "code",
      "source": [
        "print(df)"
      ],
      "metadata": {
        "colab": {
          "base_uri": "https://localhost:8080/"
        },
        "id": "p6WwgwJ1eErM",
        "outputId": "d0c1718f-a307-454d-9805-d2bb2e142090"
      },
      "execution_count": null,
      "outputs": [
        {
          "output_type": "stream",
          "name": "stdout",
          "text": [
            "          Size    Weight  Sweetness  Softness  HarvestTime  Ripeness  \\\n",
            "0    -1.924968  0.468078   3.077832 -1.472177     0.294799  2.435570   \n",
            "1    -2.409751  0.486870   0.346921 -2.495099    -0.892213  2.067549   \n",
            "2    -0.357607  1.483176   1.568452 -2.645145    -0.647267  3.090643   \n",
            "3    -0.868524  1.566201   1.889605 -1.273761    -1.006278  1.873001   \n",
            "4     0.651825  1.319199  -0.022459 -1.209709    -1.430692  1.078345   \n",
            "...        ...       ...        ...       ...          ...       ...   \n",
            "7995 -6.414403  0.723565   1.134953  2.952763     0.297928 -0.156946   \n",
            "7996  0.851143 -2.217875  -2.812175  0.489249    -1.323410 -2.316883   \n",
            "7997  1.422722 -1.907665  -2.532364  0.964976    -0.562375 -1.834765   \n",
            "7998 -2.131904 -2.742600  -1.008029  2.126946    -0.802632 -3.580266   \n",
            "7999 -2.660879 -2.044666   0.159026  1.499706    -1.581856 -1.605859   \n",
            "\n",
            "       Acidity  Quality  \n",
            "0     0.271290        1  \n",
            "1     0.307325        1  \n",
            "2     1.427322        1  \n",
            "3     0.477862        1  \n",
            "4     2.812442        1  \n",
            "...        ...      ...  \n",
            "7995  2.398091        0  \n",
            "7996  2.113136        0  \n",
            "7997  0.697361        0  \n",
            "7998  0.423569        0  \n",
            "7999  1.435644        0  \n",
            "\n",
            "[8000 rows x 8 columns]\n"
          ]
        }
      ]
    },
    {
      "cell_type": "code",
      "source": [
        "# Обучим модель логистической регрессии\n",
        "model = LogisticRegression()\n",
        "model.fit(X_train_scaled, y_train)\n",
        "\n",
        "# Выведем отчет о классификации для тестовой выборки\n",
        "predictions = model.predict(X_test_scaled)\n",
        "print(classification_report(y_test, predictions))"
      ],
      "metadata": {
        "colab": {
          "base_uri": "https://localhost:8080/"
        },
        "id": "Cfdx__h_ckGW",
        "outputId": "2eb58f4c-65e3-4e1d-8e61-9e192410bbd9"
      },
      "execution_count": null,
      "outputs": [
        {
          "output_type": "stream",
          "name": "stdout",
          "text": [
            "              precision    recall  f1-score   support\n",
            "\n",
            "           0       0.88      0.87      0.88       781\n",
            "           1       0.88      0.89      0.88       819\n",
            "\n",
            "    accuracy                           0.88      1600\n",
            "   macro avg       0.88      0.88      0.88      1600\n",
            "weighted avg       0.88      0.88      0.88      1600\n",
            "\n"
          ]
        }
      ]
    },
    {
      "cell_type": "code",
      "source": [
        "# Выведем коэффициенты модели, чтобы оценить влияние каждой переменной\n",
        "importances = pd.DataFrame(model.coef_[0], index=X.columns, columns=['Importance']).sort_values('Importance', ascending=False)\n",
        "print(importances)"
      ],
      "metadata": {
        "colab": {
          "base_uri": "https://localhost:8080/"
        },
        "id": "AkYHXkTYcnhQ",
        "outputId": "cda9bd45-feac-403d-fff8-5cb33c360234"
      },
      "execution_count": null,
      "outputs": [
        {
          "output_type": "stream",
          "name": "stdout",
          "text": [
            "             Importance\n",
            "Weight         2.018455\n",
            "Sweetness      1.489576\n",
            "Size           1.424860\n",
            "Ripeness       1.267293\n",
            "HarvestTime    1.135015\n",
            "Softness       0.168677\n",
            "Acidity       -0.267814\n"
          ]
        }
      ]
    },
    {
      "cell_type": "code",
      "source": [
        "import matplotlib.pyplot as plt\n",
        "import pandas as pd\n",
        "import numpy as np"
      ],
      "metadata": {
        "id": "z6Gg19pufs2V"
      },
      "execution_count": null,
      "outputs": []
    },
    {
      "cell_type": "code",
      "source": [
        "#Построение графика\n",
        "plt.figure(figsize=(10, 6))\n",
        "plt.barh(importances.index, importances['Importance'], color='skyblue')\n",
        "plt.xlabel('Importance')\n",
        "plt.title('Feature Importance for Banana Quality Prediction')\n",
        "plt.show()"
      ],
      "metadata": {
        "colab": {
          "base_uri": "https://localhost:8080/",
          "height": 564
        },
        "id": "PPa2XLcCfvrF",
        "outputId": "9e425661-6e66-49ea-e213-ca2e9f79b7c6"
      },
      "execution_count": null,
      "outputs": [
        {
          "output_type": "display_data",
          "data": {
            "text/plain": [
              "<Figure size 1000x600 with 1 Axes>"
            ],
            "image/png": "[encoded data removed]"
          },
          "metadata": {}
        }
      ]
    },
    {
      "cell_type": "code",
      "source": [
        "import plotly.express as px\n",
        "import pandas as pd\n",
        "\n",
        "# Данные важности признаков, как описано выше\n",
        "data = {\n",
        "    \"Feature\": [\"Weight\", \"Sweetness\", \"Size\", \"Ripeness\", \"HarvestTime\", \"Softness\", \"Acidity\"],\n",
        "    \"Importance\": [2.018455, 1.489576, 1.424860, 1.267293, 1.135015, 0.168677, -0.267814]\n",
        "}\n",
        "df_fig = pd.DataFrame(data)\n",
        "\n",
        "# Сортируем данные для лучшего отображения\n",
        "df_fig = df_fig.sort_values(by=\"Importance\", ascending=True)\n",
        "\n",
        "# Создаем график\n",
        "fig = px.bar(df_fig, x=\"Importance\", y=\"Feature\", orientation='h',\n",
        "             title=\"Feature Importance for Banana Quality Prediction\",\n",
        "             labels={\"Feature\": \"Feature\", \"Importance\": \"Importance\"},\n",
        "             color=\"Importance\",\n",
        "             color_continuous_scale=px.colors.sequential.Viridis)\n",
        "\n",
        "# Отображаем график\n",
        "fig.show()"
      ],
      "metadata": {
        "colab": {
          "base_uri": "https://localhost:8080/",
          "height": 542
        },
        "id": "rRdWGkeHh_C2",
        "outputId": "90cd4e78-8a1f-4222-a458-a988ead288c7"
      },
      "execution_count": null,
      "outputs": [
        {
          "output_type": "display_data",
          "data": {
            "text/html": [
              "<html>\n",
              "<head><meta charset=\"utf-8\" /></head>\n",
              "<body>\n",
              "    <div>            <script src=\"https://cdnjs.cloudflare.com/ajax/libs/mathjax/2.7.5/MathJax.js?config=TeX-AMS-MML_SVG\"></script><script type=\"text/javascript\">if (window.MathJax && window.MathJax.Hub && window.MathJax.Hub.Config) {window.MathJax.Hub.Config({SVG: {font: \"STIX-Web\"}});}</script>                <script type=\"text/javascript\">window.PlotlyConfig = {MathJaxConfig: 'local'};</script>\n",
              "        <script charset=\"utf-8\" src=\"https://cdn.plot.ly/plotly-2.24.1.min.js\"></script>                <div id=\"7c623261-2fce-487d-849d-05fa237213d5\" class=\"plotly-graph-div\" style=\"height:525px; width:100%;\"></div>            <script type=\"text/javascript\">                                    window.PLOTLYENV=window.PLOTLYENV || {};                                    if (document.getElementById(\"7c623261-2fce-487d-849d-05fa237213d5\")) {                    Plotly.newPlot(                        \"7c623261-2fce-487d-849d-05fa237213d5\",                        [{\"alignmentgroup\":\"True\",\"hovertemplate\":\"Importance=%{marker.color}\\u003cbr\\u003eFeature=%{y}\\u003cextra\\u003e\\u003c\\u002fextra\\u003e\",\"legendgroup\":\"\",\"marker\":{\"color\":[-0.267814,0.168677,1.135015,1.267293,1.42486,1.489576,2.018455],\"coloraxis\":\"coloraxis\",\"pattern\":{\"shape\":\"\"}},\"name\":\"\",\"offsetgroup\":\"\",\"orientation\":\"h\",\"showlegend\":false,\"textposition\":\"auto\",\"x\":[-0.267814,0.168677,1.135015,1.267293,1.42486,1.489576,2.018455],\"xaxis\":\"x\",\"y\":[\"Acidity\",\"Softness\",\"HarvestTime\",\"Ripeness\",\"Size\",\"Sweetness\",\"Weight\"],\"yaxis\":\"y\",\"type\":\"bar\"}],                        {\"template\":{\"data\":{\"histogram2dcontour\":[{\"type\":\"histogram2dcontour\",\"colorbar\":{\"outlinewidth\":0,\"ticks\":\"\"},\"colorscale\":[[0.0,\"#0d0887\"],[0.1111111111111111,\"#46039f\"],[0.2222222222222222,\"#7201a8\"],[0.3333333333333333,\"#9c179e\"],[0.4444444444444444,\"#bd3786\"],[0.5555555555555556,\"#d8576b\"],[0.6666666666666666,\"#ed7953\"],[0.7777777777777778,\"#fb9f3a\"],[0.8888888888888888,\"#fdca26\"],[1.0,\"#f0f921\"]]}],\"choropleth\":[{\"type\":\"choropleth\",\"colorbar\":{\"outlinewidth\":0,\"ticks\":\"\"}}],\"histogram2d\":[{\"type\":\"histogram2d\",\"colorbar\":{\"outlinewidth\":0,\"ticks\":\"\"},\"colorscale\":[[0.0,\"#0d0887\"],[0.1111111111111111,\"#46039f\"],[0.2222222222222222,\"#7201a8\"],[0.3333333333333333,\"#9c179e\"],[0.4444444444444444,\"#bd3786\"],[0.5555555555555556,\"#d8576b\"],[0.6666666666666666,\"#ed7953\"],[0.7777777777777778,\"#fb9f3a\"],[0.8888888888888888,\"#fdca26\"],[1.0,\"#f0f921\"]]}],\"heatmap\":[{\"type\":\"heatmap\",\"colorbar\":{\"outlinewidth\":0,\"ticks\":\"\"},\"colorscale\":[[0.0,\"#0d0887\"],[0.1111111111111111,\"#46039f\"],[0.2222222222222222,\"#7201a8\"],[0.3333333333333333,\"#9c179e\"],[0.4444444444444444,\"#bd3786\"],[0.5555555555555556,\"#d8576b\"],[0.6666666666666666,\"#ed7953\"],[0.7777777777777778,\"#fb9f3a\"],[0.8888888888888888,\"#fdca26\"],[1.0,\"#f0f921\"]]}],\"heatmapgl\":[{\"type\":\"heatmapgl\",\"colorbar\":{\"outlinewidth\":0,\"ticks\":\"\"},\"colorscale\":[[0.0,\"#0d0887\"],[0.1111111111111111,\"#46039f\"],[0.2222222222222222,\"#7201a8\"],[0.3333333333333333,\"#9c179e\"],[0.4444444444444444,\"#bd3786\"],[0.5555555555555556,\"#d8576b\"],[0.6666666666666666,\"#ed7953\"],[0.7777777777777778,\"#fb9f3a\"],[0.8888888888888888,\"#fdca26\"],[1.0,\"#f0f921\"]]}],\"contourcarpet\":[{\"type\":\"contourcarpet\",\"colorbar\":{\"outlinewidth\":0,\"ticks\":\"\"}}],\"contour\":[{\"type\":\"contour\",\"colorbar\":{\"outlinewidth\":0,\"ticks\":\"\"},\"colorscale\":[[0.0,\"#0d0887\"],[0.1111111111111111,\"#46039f\"],[0.2222222222222222,\"#7201a8\"],[0.3333333333333333,\"#9c179e\"],[0.4444444444444444,\"#bd3786\"],[0.5555555555555556,\"#d8576b\"],[0.6666666666666666,\"#ed7953\"],[0.7777777777777778,\"#fb9f3a\"],[0.8888888888888888,\"#fdca26\"],[1.0,\"#f0f921\"]]}],\"surface\":[{\"type\":\"surface\",\"colorbar\":{\"outlinewidth\":0,\"ticks\":\"\"},\"colorscale\":[[0.0,\"#0d0887\"],[0.1111111111111111,\"#46039f\"],[0.2222222222222222,\"#7201a8\"],[0.3333333333333333,\"#9c179e\"],[0.4444444444444444,\"#bd3786\"],[0.5555555555555556,\"#d8576b\"],[0.6666666666666666,\"#ed7953\"],[0.7777777777777778,\"#fb9f3a\"],[0.8888888888888888,\"#fdca26\"],[1.0,\"#f0f921\"]]}],\"mesh3d\":[{\"type\":\"mesh3d\",\"colorbar\":{\"outlinewidth\":0,\"ticks\":\"\"}}],\"scatter\":[{\"fillpattern\":{\"fillmode\":\"overlay\",\"size\":10,\"solidity\":0.2},\"type\":\"scatter\"}],\"parcoords\":[{\"type\":\"parcoords\",\"line\":{\"colorbar\":{\"outlinewidth\":0,\"ticks\":\"\"}}}],\"scatterpolargl\":[{\"type\":\"scatterpolargl\",\"marker\":{\"colorbar\":{\"outlinewidth\":0,\"ticks\":\"\"}}}],\"bar\":[{\"error_x\":{\"color\":\"#2a3f5f\"},\"error_y\":{\"color\":\"#2a3f5f\"},\"marker\":{\"line\":{\"color\":\"#E5ECF6\",\"width\":0.5},\"pattern\":{\"fillmode\":\"overlay\",\"size\":10,\"solidity\":0.2}},\"type\":\"bar\"}],\"scattergeo\":[{\"type\":\"scattergeo\",\"marker\":{\"colorbar\":{\"outlinewidth\":0,\"ticks\":\"\"}}}],\"scatterpolar\":[{\"type\":\"scatterpolar\",\"marker\":{\"colorbar\":{\"outlinewidth\":0,\"ticks\":\"\"}}}],\"histogram\":[{\"marker\":{\"pattern\":{\"fillmode\":\"overlay\",\"size\":10,\"solidity\":0.2}},\"type\":\"histogram\"}],\"scattergl\":[{\"type\":\"scattergl\",\"marker\":{\"colorbar\":{\"outlinewidth\":0,\"ticks\":\"\"}}}],\"scatter3d\":[{\"type\":\"scatter3d\",\"line\":{\"colorbar\":{\"outlinewidth\":0,\"ticks\":\"\"}},\"marker\":{\"colorbar\":{\"outlinewidth\":0,\"ticks\":\"\"}}}],\"scattermapbox\":[{\"type\":\"scattermapbox\",\"marker\":{\"colorbar\":{\"outlinewidth\":0,\"ticks\":\"\"}}}],\"scatterternary\":[{\"type\":\"scatterternary\",\"marker\":{\"colorbar\":{\"outlinewidth\":0,\"ticks\":\"\"}}}],\"scattercarpet\":[{\"type\":\"scattercarpet\",\"marker\":{\"colorbar\":{\"outlinewidth\":0,\"ticks\":\"\"}}}],\"carpet\":[{\"aaxis\":{\"endlinecolor\":\"#2a3f5f\",\"gridcolor\":\"white\",\"linecolor\":\"white\",\"minorgridcolor\":\"white\",\"startlinecolor\":\"#2a3f5f\"},\"baxis\":{\"endlinecolor\":\"#2a3f5f\",\"gridcolor\":\"white\",\"linecolor\":\"white\",\"minorgridcolor\":\"white\",\"startlinecolor\":\"#2a3f5f\"},\"type\":\"carpet\"}],\"table\":[{\"cells\":{\"fill\":{\"color\":\"#EBF0F8\"},\"line\":{\"color\":\"white\"}},\"header\":{\"fill\":{\"color\":\"#C8D4E3\"},\"line\":{\"color\":\"white\"}},\"type\":\"table\"}],\"barpolar\":[{\"marker\":{\"line\":{\"color\":\"#E5ECF6\",\"width\":0.5},\"pattern\":{\"fillmode\":\"overlay\",\"size\":10,\"solidity\":0.2}},\"type\":\"barpolar\"}],\"pie\":[{\"automargin\":true,\"type\":\"pie\"}]},\"layout\":{\"autotypenumbers\":\"strict\",\"colorway\":[\"#636efa\",\"#EF553B\",\"#00cc96\",\"#ab63fa\",\"#FFA15A\",\"#19d3f3\",\"#FF6692\",\"#B6E880\",\"#FF97FF\",\"#FECB52\"],\"font\":{\"color\":\"#2a3f5f\"},\"hovermode\":\"closest\",\"hoverlabel\":{\"align\":\"left\"},\"paper_bgcolor\":\"white\",\"plot_bgcolor\":\"#E5ECF6\",\"polar\":{\"bgcolor\":\"#E5ECF6\",\"angularaxis\":{\"gridcolor\":\"white\",\"linecolor\":\"white\",\"ticks\":\"\"},\"radialaxis\":{\"gridcolor\":\"white\",\"linecolor\":\"white\",\"ticks\":\"\"}},\"ternary\":{\"bgcolor\":\"#E5ECF6\",\"aaxis\":{\"gridcolor\":\"white\",\"linecolor\":\"white\",\"ticks\":\"\"},\"baxis\":{\"gridcolor\":\"white\",\"linecolor\":\"white\",\"ticks\":\"\"},\"caxis\":{\"gridcolor\":\"white\",\"linecolor\":\"white\",\"ticks\":\"\"}},\"coloraxis\":{\"colorbar\":{\"outlinewidth\":0,\"ticks\":\"\"}},\"colorscale\":{\"sequential\":[[0.0,\"#0d0887\"],[0.1111111111111111,\"#46039f\"],[0.2222222222222222,\"#7201a8\"],[0.3333333333333333,\"#9c179e\"],[0.4444444444444444,\"#bd3786\"],[0.5555555555555556,\"#d8576b\"],[0.6666666666666666,\"#ed7953\"],[0.7777777777777778,\"#fb9f3a\"],[0.8888888888888888,\"#fdca26\"],[1.0,\"#f0f921\"]],\"sequentialminus\":[[0.0,\"#0d0887\"],[0.1111111111111111,\"#46039f\"],[0.2222222222222222,\"#7201a8\"],[0.3333333333333333,\"#9c179e\"],[0.4444444444444444,\"#bd3786\"],[0.5555555555555556,\"#d8576b\"],[0.6666666666666666,\"#ed7953\"],[0.7777777777777778,\"#fb9f3a\"],[0.8888888888888888,\"#fdca26\"],[1.0,\"#f0f921\"]],\"diverging\":[[0,\"#8e0152\"],[0.1,\"#c51b7d\"],[0.2,\"#de77ae\"],[0.3,\"#f1b6da\"],[0.4,\"#fde0ef\"],[0.5,\"#f7f7f7\"],[0.6,\"#e6f5d0\"],[0.7,\"#b8e186\"],[0.8,\"#7fbc41\"],[0.9,\"#4d9221\"],[1,\"#276419\"]]},\"xaxis\":{\"gridcolor\":\"white\",\"linecolor\":\"white\",\"ticks\":\"\",\"title\":{\"standoff\":15},\"zerolinecolor\":\"white\",\"automargin\":true,\"zerolinewidth\":2},\"yaxis\":{\"gridcolor\":\"white\",\"linecolor\":\"white\",\"ticks\":\"\",\"title\":{\"standoff\":15},\"zerolinecolor\":\"white\",\"automargin\":true,\"zerolinewidth\":2},\"scene\":{\"xaxis\":{\"backgroundcolor\":\"#E5ECF6\",\"gridcolor\":\"white\",\"linecolor\":\"white\",\"showbackground\":true,\"ticks\":\"\",\"zerolinecolor\":\"white\",\"gridwidth\":2},\"yaxis\":{\"backgroundcolor\":\"#E5ECF6\",\"gridcolor\":\"white\",\"linecolor\":\"white\",\"showbackground\":true,\"ticks\":\"\",\"zerolinecolor\":\"white\",\"gridwidth\":2},\"zaxis\":{\"backgroundcolor\":\"#E5ECF6\",\"gridcolor\":\"white\",\"linecolor\":\"white\",\"showbackground\":true,\"ticks\":\"\",\"zerolinecolor\":\"white\",\"gridwidth\":2}},\"shapedefaults\":{\"line\":{\"color\":\"#2a3f5f\"}},\"annotationdefaults\":{\"arrowcolor\":\"#2a3f5f\",\"arrowhead\":0,\"arrowwidth\":1},\"geo\":{\"bgcolor\":\"white\",\"landcolor\":\"#E5ECF6\",\"subunitcolor\":\"white\",\"showland\":true,\"showlakes\":true,\"lakecolor\":\"white\"},\"title\":{\"x\":0.05},\"mapbox\":{\"style\":\"light\"}}},\"xaxis\":{\"anchor\":\"y\",\"domain\":[0.0,1.0],\"title\":{\"text\":\"Importance\"}},\"yaxis\":{\"anchor\":\"x\",\"domain\":[0.0,1.0],\"title\":{\"text\":\"Feature\"}},\"coloraxis\":{\"colorbar\":{\"title\":{\"text\":\"Importance\"}},\"colorscale\":[[0.0,\"#440154\"],[0.1111111111111111,\"#482878\"],[0.2222222222222222,\"#3e4989\"],[0.3333333333333333,\"#31688e\"],[0.4444444444444444,\"#26828e\"],[0.5555555555555556,\"#1f9e89\"],[0.6666666666666666,\"#35b779\"],[0.7777777777777778,\"#6ece58\"],[0.8888888888888888,\"#b5de2b\"],[1.0,\"#fde725\"]]},\"legend\":{\"tracegroupgap\":0},\"title\":{\"text\":\"Feature Importance for Banana Quality Prediction\"},\"barmode\":\"relative\"},                        {\"responsive\": true}                    ).then(function(){\n",
              "                            \n",
              "var gd = document.getElementById('7c623261-2fce-487d-849d-05fa237213d5');\n",
              "var x = new MutationObserver(function (mutations, observer) {{\n",
              "        var display = window.getComputedStyle(gd).display;\n",
              "        if (!display || display === 'none') {{\n",
              "            console.log([gd, 'removed!']);\n",
              "            Plotly.purge(gd);\n",
              "            observer.disconnect();\n",
              "        }}\n",
              "}});\n",
              "\n",
              "// Listen for the removal of the full notebook cells\n",
              "var notebookContainer = gd.closest('#notebook-container');\n",
              "if (notebookContainer) {{\n",
              "    x.observe(notebookContainer, {childList: true});\n",
              "}}\n",
              "\n",
              "// Listen for the clearing of the current output cell\n",
              "var outputEl = gd.closest('.output');\n",
              "if (outputEl) {{\n",
              "    x.observe(outputEl, {childList: true});\n",
              "}}\n",
              "\n",
              "                        })                };                            </script>        </div>\n",
              "</body>\n",
              "</html>"
            ]
          },
          "metadata": {}
        }
      ]
    },
    {
      "cell_type": "markdown",
      "source": [
        "# ДЗ №2"
      ],
      "metadata": {
        "id": "XQI6ON4YH6do"
      }
    },
    {
      "cell_type": "code",
      "source": [
        "import pandas as pd\n",
        "from sklearn.model_selection import train_test_split\n",
        "\n",
        "# Предположим, что данные загружены в DataFrame\n",
        "data = pd.read_csv('banana_quality.csv')\n",
        "\n",
        "# Преобразование категориальной переменной 'Quality'\n",
        "data['Quality'] = data['Quality'].map({'Good': 1, 'Bad': 0})\n",
        "\n",
        "# Выделение признаков и целевой переменной\n",
        "X = data.drop('Quality', axis=1)\n",
        "y = data['Quality']\n",
        "\n",
        "# Разбиение данных на обучающую и тестовую выборку\n",
        "X_train, X_test, y_train, y_test = train_test_split(X, y, test_size=0.2, random_state=42)\n"
      ],
      "metadata": {
        "id": "KOroQfttH0Nq"
      },
      "execution_count": null,
      "outputs": []
    },
    {
      "cell_type": "code",
      "source": [
        "from sklearn.dummy import DummyClassifier\n",
        "from sklearn.metrics import accuracy_score\n",
        "\n",
        "# Константное предсказание: выбор наиболее частого класса\n",
        "dummy_clf = DummyClassifier(strategy=\"most_frequent\")\n",
        "dummy_clf.fit(X_train, y_train)\n",
        "dummy_pred = dummy_clf.predict(X_test)\n",
        "\n",
        "# Измерение качества\n",
        "dummy_accuracy = accuracy_score(y_test, dummy_pred)\n",
        "print(f\"Accuracy of constant prediction: {dummy_accuracy}\")\n"
      ],
      "metadata": {
        "colab": {
          "base_uri": "https://localhost:8080/"
        },
        "id": "NCfDicrKIYja",
        "outputId": "ff61fe49-1046-4373-abc8-eafa3fad26aa"
      },
      "execution_count": null,
      "outputs": [
        {
          "output_type": "stream",
          "name": "stdout",
          "text": [
            "Accuracy of constant prediction: 0.488125\n"
          ]
        }
      ]
    },
    {
      "cell_type": "code",
      "source": [
        "from sklearn.preprocessing import StandardScaler\n",
        "from sklearn.linear_model import LogisticRegression\n",
        "\n",
        "# Нормализация данных\n",
        "scaler = StandardScaler()\n",
        "X_train_scaled = scaler.fit_transform(X_train)\n",
        "X_test_scaled = scaler.transform(X_test)\n",
        "\n",
        "# Обучение логистической регрессии\n",
        "model = LogisticRegression(random_state=42)\n",
        "model.fit(X_train_scaled, y_train)\n",
        "\n",
        "# Предсказание на тестовой выборке\n",
        "predictions = model.predict(X_test_scaled)\n",
        "\n",
        "# Измерение качества\n",
        "accuracy = accuracy_score(y_test, predictions)\n",
        "print(f\"Accuracy of logistic regression: {accuracy}\")\n"
      ],
      "metadata": {
        "colab": {
          "base_uri": "https://localhost:8080/"
        },
        "id": "9Rdp9lXgIbx5",
        "outputId": "2694992b-93b4-417a-a90a-40b58a210328"
      },
      "execution_count": null,
      "outputs": [
        {
          "output_type": "stream",
          "name": "stdout",
          "text": [
            "Accuracy of logistic regression: 0.879375\n"
          ]
        }
      ]
    },
    {
      "cell_type": "code",
      "source": [
        "import plotly.graph_objects as go\n",
        "\n",
        "# Метрики точности для обеих моделей\n",
        "baseline_accuracy = dummy_accuracy\n",
        "model_accuracy = accuracy\n",
        "\n",
        "# Создание фигуры с библиотекой Plotly\n",
        "fig = go.Figure()\n",
        "\n",
        "# Добавление данных для бейзлайновой модели\n",
        "fig.add_trace(go.Bar(\n",
        "    x=['Baseline Model'],\n",
        "    y=[baseline_accuracy],\n",
        "    name='Baseline Model',\n",
        "    marker_color='indianred'\n",
        "))\n",
        "\n",
        "# Добавление данных для обученной модели\n",
        "fig.add_trace(go.Bar(\n",
        "    x=['Trained Model'],\n",
        "    y=[model_accuracy],\n",
        "    name='Trained Model',\n",
        "    marker_color='lightsalmon'\n",
        "))\n",
        "\n",
        "# Добавление настроек графика\n",
        "fig.update_layout(\n",
        "    title='Comparison of Model Accuracies',\n",
        "    xaxis_title='Model',\n",
        "    yaxis_title='Accuracy (%)',\n",
        "    barmode='group'\n",
        ")\n",
        "\n",
        "# Показать график\n",
        "fig.show()\n"
      ],
      "metadata": {
        "colab": {
          "base_uri": "https://localhost:8080/",
          "height": 542
        },
        "id": "qWabXxOcIgFh",
        "outputId": "b0cfe775-9503-4000-b9ee-8e10c7a1404c"
      },
      "execution_count": null,
      "outputs": [
        {
          "output_type": "display_data",
          "data": {
            "text/html": [
              "<html>\n",
              "<head><meta charset=\"utf-8\" /></head>\n",
              "<body>\n",
              "    <div>            <script src=\"https://cdnjs.cloudflare.com/ajax/libs/mathjax/2.7.5/MathJax.js?config=TeX-AMS-MML_SVG\"></script><script type=\"text/javascript\">if (window.MathJax && window.MathJax.Hub && window.MathJax.Hub.Config) {window.MathJax.Hub.Config({SVG: {font: \"STIX-Web\"}});}</script>                <script type=\"text/javascript\">window.PlotlyConfig = {MathJaxConfig: 'local'};</script>\n",
              "        <script charset=\"utf-8\" src=\"https://cdn.plot.ly/plotly-2.24.1.min.js\"></script>                <div id=\"4d8199e6-ad55-4fcf-bb55-89afe0a2ab97\" class=\"plotly-graph-div\" style=\"height:525px; width:100%;\"></div>            <script type=\"text/javascript\">                                    window.PLOTLYENV=window.PLOTLYENV || {};                                    if (document.getElementById(\"4d8199e6-ad55-4fcf-bb55-89afe0a2ab97\")) {                    Plotly.newPlot(                        \"4d8199e6-ad55-4fcf-bb55-89afe0a2ab97\",                        [{\"marker\":{\"color\":\"indianred\"},\"name\":\"Baseline Model\",\"x\":[\"Baseline Model\"],\"y\":[0.488125],\"type\":\"bar\"},{\"marker\":{\"color\":\"lightsalmon\"},\"name\":\"Trained Model\",\"x\":[\"Trained Model\"],\"y\":[0.879375],\"type\":\"bar\"}],                        {\"template\":{\"data\":{\"histogram2dcontour\":[{\"type\":\"histogram2dcontour\",\"colorbar\":{\"outlinewidth\":0,\"ticks\":\"\"},\"colorscale\":[[0.0,\"#0d0887\"],[0.1111111111111111,\"#46039f\"],[0.2222222222222222,\"#7201a8\"],[0.3333333333333333,\"#9c179e\"],[0.4444444444444444,\"#bd3786\"],[0.5555555555555556,\"#d8576b\"],[0.6666666666666666,\"#ed7953\"],[0.7777777777777778,\"#fb9f3a\"],[0.8888888888888888,\"#fdca26\"],[1.0,\"#f0f921\"]]}],\"choropleth\":[{\"type\":\"choropleth\",\"colorbar\":{\"outlinewidth\":0,\"ticks\":\"\"}}],\"histogram2d\":[{\"type\":\"histogram2d\",\"colorbar\":{\"outlinewidth\":0,\"ticks\":\"\"},\"colorscale\":[[0.0,\"#0d0887\"],[0.1111111111111111,\"#46039f\"],[0.2222222222222222,\"#7201a8\"],[0.3333333333333333,\"#9c179e\"],[0.4444444444444444,\"#bd3786\"],[0.5555555555555556,\"#d8576b\"],[0.6666666666666666,\"#ed7953\"],[0.7777777777777778,\"#fb9f3a\"],[0.8888888888888888,\"#fdca26\"],[1.0,\"#f0f921\"]]}],\"heatmap\":[{\"type\":\"heatmap\",\"colorbar\":{\"outlinewidth\":0,\"ticks\":\"\"},\"colorscale\":[[0.0,\"#0d0887\"],[0.1111111111111111,\"#46039f\"],[0.2222222222222222,\"#7201a8\"],[0.3333333333333333,\"#9c179e\"],[0.4444444444444444,\"#bd3786\"],[0.5555555555555556,\"#d8576b\"],[0.6666666666666666,\"#ed7953\"],[0.7777777777777778,\"#fb9f3a\"],[0.8888888888888888,\"#fdca26\"],[1.0,\"#f0f921\"]]}],\"heatmapgl\":[{\"type\":\"heatmapgl\",\"colorbar\":{\"outlinewidth\":0,\"ticks\":\"\"},\"colorscale\":[[0.0,\"#0d0887\"],[0.1111111111111111,\"#46039f\"],[0.2222222222222222,\"#7201a8\"],[0.3333333333333333,\"#9c179e\"],[0.4444444444444444,\"#bd3786\"],[0.5555555555555556,\"#d8576b\"],[0.6666666666666666,\"#ed7953\"],[0.7777777777777778,\"#fb9f3a\"],[0.8888888888888888,\"#fdca26\"],[1.0,\"#f0f921\"]]}],\"contourcarpet\":[{\"type\":\"contourcarpet\",\"colorbar\":{\"outlinewidth\":0,\"ticks\":\"\"}}],\"contour\":[{\"type\":\"contour\",\"colorbar\":{\"outlinewidth\":0,\"ticks\":\"\"},\"colorscale\":[[0.0,\"#0d0887\"],[0.1111111111111111,\"#46039f\"],[0.2222222222222222,\"#7201a8\"],[0.3333333333333333,\"#9c179e\"],[0.4444444444444444,\"#bd3786\"],[0.5555555555555556,\"#d8576b\"],[0.6666666666666666,\"#ed7953\"],[0.7777777777777778,\"#fb9f3a\"],[0.8888888888888888,\"#fdca26\"],[1.0,\"#f0f921\"]]}],\"surface\":[{\"type\":\"surface\",\"colorbar\":{\"outlinewidth\":0,\"ticks\":\"\"},\"colorscale\":[[0.0,\"#0d0887\"],[0.1111111111111111,\"#46039f\"],[0.2222222222222222,\"#7201a8\"],[0.3333333333333333,\"#9c179e\"],[0.4444444444444444,\"#bd3786\"],[0.5555555555555556,\"#d8576b\"],[0.6666666666666666,\"#ed7953\"],[0.7777777777777778,\"#fb9f3a\"],[0.8888888888888888,\"#fdca26\"],[1.0,\"#f0f921\"]]}],\"mesh3d\":[{\"type\":\"mesh3d\",\"colorbar\":{\"outlinewidth\":0,\"ticks\":\"\"}}],\"scatter\":[{\"fillpattern\":{\"fillmode\":\"overlay\",\"size\":10,\"solidity\":0.2},\"type\":\"scatter\"}],\"parcoords\":[{\"type\":\"parcoords\",\"line\":{\"colorbar\":{\"outlinewidth\":0,\"ticks\":\"\"}}}],\"scatterpolargl\":[{\"type\":\"scatterpolargl\",\"marker\":{\"colorbar\":{\"outlinewidth\":0,\"ticks\":\"\"}}}],\"bar\":[{\"error_x\":{\"color\":\"#2a3f5f\"},\"error_y\":{\"color\":\"#2a3f5f\"},\"marker\":{\"line\":{\"color\":\"#E5ECF6\",\"width\":0.5},\"pattern\":{\"fillmode\":\"overlay\",\"size\":10,\"solidity\":0.2}},\"type\":\"bar\"}],\"scattergeo\":[{\"type\":\"scattergeo\",\"marker\":{\"colorbar\":{\"outlinewidth\":0,\"ticks\":\"\"}}}],\"scatterpolar\":[{\"type\":\"scatterpolar\",\"marker\":{\"colorbar\":{\"outlinewidth\":0,\"ticks\":\"\"}}}],\"histogram\":[{\"marker\":{\"pattern\":{\"fillmode\":\"overlay\",\"size\":10,\"solidity\":0.2}},\"type\":\"histogram\"}],\"scattergl\":[{\"type\":\"scattergl\",\"marker\":{\"colorbar\":{\"outlinewidth\":0,\"ticks\":\"\"}}}],\"scatter3d\":[{\"type\":\"scatter3d\",\"line\":{\"colorbar\":{\"outlinewidth\":0,\"ticks\":\"\"}},\"marker\":{\"colorbar\":{\"outlinewidth\":0,\"ticks\":\"\"}}}],\"scattermapbox\":[{\"type\":\"scattermapbox\",\"marker\":{\"colorbar\":{\"outlinewidth\":0,\"ticks\":\"\"}}}],\"scatterternary\":[{\"type\":\"scatterternary\",\"marker\":{\"colorbar\":{\"outlinewidth\":0,\"ticks\":\"\"}}}],\"scattercarpet\":[{\"type\":\"scattercarpet\",\"marker\":{\"colorbar\":{\"outlinewidth\":0,\"ticks\":\"\"}}}],\"carpet\":[{\"aaxis\":{\"endlinecolor\":\"#2a3f5f\",\"gridcolor\":\"white\",\"linecolor\":\"white\",\"minorgridcolor\":\"white\",\"startlinecolor\":\"#2a3f5f\"},\"baxis\":{\"endlinecolor\":\"#2a3f5f\",\"gridcolor\":\"white\",\"linecolor\":\"white\",\"minorgridcolor\":\"white\",\"startlinecolor\":\"#2a3f5f\"},\"type\":\"carpet\"}],\"table\":[{\"cells\":{\"fill\":{\"color\":\"#EBF0F8\"},\"line\":{\"color\":\"white\"}},\"header\":{\"fill\":{\"color\":\"#C8D4E3\"},\"line\":{\"color\":\"white\"}},\"type\":\"table\"}],\"barpolar\":[{\"marker\":{\"line\":{\"color\":\"#E5ECF6\",\"width\":0.5},\"pattern\":{\"fillmode\":\"overlay\",\"size\":10,\"solidity\":0.2}},\"type\":\"barpolar\"}],\"pie\":[{\"automargin\":true,\"type\":\"pie\"}]},\"layout\":{\"autotypenumbers\":\"strict\",\"colorway\":[\"#636efa\",\"#EF553B\",\"#00cc96\",\"#ab63fa\",\"#FFA15A\",\"#19d3f3\",\"#FF6692\",\"#B6E880\",\"#FF97FF\",\"#FECB52\"],\"font\":{\"color\":\"#2a3f5f\"},\"hovermode\":\"closest\",\"hoverlabel\":{\"align\":\"left\"},\"paper_bgcolor\":\"white\",\"plot_bgcolor\":\"#E5ECF6\",\"polar\":{\"bgcolor\":\"#E5ECF6\",\"angularaxis\":{\"gridcolor\":\"white\",\"linecolor\":\"white\",\"ticks\":\"\"},\"radialaxis\":{\"gridcolor\":\"white\",\"linecolor\":\"white\",\"ticks\":\"\"}},\"ternary\":{\"bgcolor\":\"#E5ECF6\",\"aaxis\":{\"gridcolor\":\"white\",\"linecolor\":\"white\",\"ticks\":\"\"},\"baxis\":{\"gridcolor\":\"white\",\"linecolor\":\"white\",\"ticks\":\"\"},\"caxis\":{\"gridcolor\":\"white\",\"linecolor\":\"white\",\"ticks\":\"\"}},\"coloraxis\":{\"colorbar\":{\"outlinewidth\":0,\"ticks\":\"\"}},\"colorscale\":{\"sequential\":[[0.0,\"#0d0887\"],[0.1111111111111111,\"#46039f\"],[0.2222222222222222,\"#7201a8\"],[0.3333333333333333,\"#9c179e\"],[0.4444444444444444,\"#bd3786\"],[0.5555555555555556,\"#d8576b\"],[0.6666666666666666,\"#ed7953\"],[0.7777777777777778,\"#fb9f3a\"],[0.8888888888888888,\"#fdca26\"],[1.0,\"#f0f921\"]],\"sequentialminus\":[[0.0,\"#0d0887\"],[0.1111111111111111,\"#46039f\"],[0.2222222222222222,\"#7201a8\"],[0.3333333333333333,\"#9c179e\"],[0.4444444444444444,\"#bd3786\"],[0.5555555555555556,\"#d8576b\"],[0.6666666666666666,\"#ed7953\"],[0.7777777777777778,\"#fb9f3a\"],[0.8888888888888888,\"#fdca26\"],[1.0,\"#f0f921\"]],\"diverging\":[[0,\"#8e0152\"],[0.1,\"#c51b7d\"],[0.2,\"#de77ae\"],[0.3,\"#f1b6da\"],[0.4,\"#fde0ef\"],[0.5,\"#f7f7f7\"],[0.6,\"#e6f5d0\"],[0.7,\"#b8e186\"],[0.8,\"#7fbc41\"],[0.9,\"#4d9221\"],[1,\"#276419\"]]},\"xaxis\":{\"gridcolor\":\"white\",\"linecolor\":\"white\",\"ticks\":\"\",\"title\":{\"standoff\":15},\"zerolinecolor\":\"white\",\"automargin\":true,\"zerolinewidth\":2},\"yaxis\":{\"gridcolor\":\"white\",\"linecolor\":\"white\",\"ticks\":\"\",\"title\":{\"standoff\":15},\"zerolinecolor\":\"white\",\"automargin\":true,\"zerolinewidth\":2},\"scene\":{\"xaxis\":{\"backgroundcolor\":\"#E5ECF6\",\"gridcolor\":\"white\",\"linecolor\":\"white\",\"showbackground\":true,\"ticks\":\"\",\"zerolinecolor\":\"white\",\"gridwidth\":2},\"yaxis\":{\"backgroundcolor\":\"#E5ECF6\",\"gridcolor\":\"white\",\"linecolor\":\"white\",\"showbackground\":true,\"ticks\":\"\",\"zerolinecolor\":\"white\",\"gridwidth\":2},\"zaxis\":{\"backgroundcolor\":\"#E5ECF6\",\"gridcolor\":\"white\",\"linecolor\":\"white\",\"showbackground\":true,\"ticks\":\"\",\"zerolinecolor\":\"white\",\"gridwidth\":2}},\"shapedefaults\":{\"line\":{\"color\":\"#2a3f5f\"}},\"annotationdefaults\":{\"arrowcolor\":\"#2a3f5f\",\"arrowhead\":0,\"arrowwidth\":1},\"geo\":{\"bgcolor\":\"white\",\"landcolor\":\"#E5ECF6\",\"subunitcolor\":\"white\",\"showland\":true,\"showlakes\":true,\"lakecolor\":\"white\"},\"title\":{\"x\":0.05},\"mapbox\":{\"style\":\"light\"}}},\"title\":{\"text\":\"Comparison of Model Accuracies\"},\"xaxis\":{\"title\":{\"text\":\"Model\"}},\"yaxis\":{\"title\":{\"text\":\"Accuracy (%)\"}},\"barmode\":\"group\"},                        {\"responsive\": true}                    ).then(function(){\n",
              "                            \n",
              "var gd = document.getElementById('4d8199e6-ad55-4fcf-bb55-89afe0a2ab97');\n",
              "var x = new MutationObserver(function (mutations, observer) {{\n",
              "        var display = window.getComputedStyle(gd).display;\n",
              "        if (!display || display === 'none') {{\n",
              "            console.log([gd, 'removed!']);\n",
              "            Plotly.purge(gd);\n",
              "            observer.disconnect();\n",
              "        }}\n",
              "}});\n",
              "\n",
              "// Listen for the removal of the full notebook cells\n",
              "var notebookContainer = gd.closest('#notebook-container');\n",
              "if (notebookContainer) {{\n",
              "    x.observe(notebookContainer, {childList: true});\n",
              "}}\n",
              "\n",
              "// Listen for the clearing of the current output cell\n",
              "var outputEl = gd.closest('.output');\n",
              "if (outputEl) {{\n",
              "    x.observe(outputEl, {childList: true});\n",
              "}}\n",
              "\n",
              "                        })                };                            </script>        </div>\n",
              "</body>\n",
              "</html>"
            ]
          },
          "metadata": {}
        }
      ]
    },
    {
      "cell_type": "markdown",
      "source": [
        "#Задание 3"
      ],
      "metadata": {
        "id": "bYJdtdVhgkTJ"
      }
    },
    {
      "cell_type": "code",
      "source": [
        "pip install optuna"
      ],
      "metadata": {
        "colab": {
          "base_uri": "https://localhost:8080/"
        },
        "id": "Vu-jxv3EhEDB",
        "outputId": "2054960c-3f01-4657-95a1-35609118342a"
      },
      "execution_count": 1,
      "outputs": [
        {
          "output_type": "stream",
          "name": "stdout",
          "text": [
            "Requirement already satisfied: optuna in /usr/local/lib/python3.10/dist-packages (3.6.1)\n",
            "Requirement already satisfied: alembic>=1.5.0 in /usr/local/lib/python3.10/dist-packages (from optuna) (1.13.1)\n",
            "Requirement already satisfied: colorlog in /usr/local/lib/python3.10/dist-packages (from optuna) (6.8.2)\n",
            "Requirement already satisfied: numpy in /usr/local/lib/python3.10/dist-packages (from optuna) (1.25.2)\n",
            "Requirement already satisfied: packaging>=20.0 in /usr/local/lib/python3.10/dist-packages (from optuna) (24.0)\n",
            "Requirement already satisfied: sqlalchemy>=1.3.0 in /usr/local/lib/python3.10/dist-packages (from optuna) (2.0.29)\n",
            "Requirement already satisfied: tqdm in /usr/local/lib/python3.10/dist-packages (from optuna) (4.66.2)\n",
            "Requirement already satisfied: PyYAML in /usr/local/lib/python3.10/dist-packages (from optuna) (6.0.1)\n",
            "Requirement already satisfied: Mako in /usr/local/lib/python3.10/dist-packages (from alembic>=1.5.0->optuna) (1.3.3)\n",
            "Requirement already satisfied: typing-extensions>=4 in /usr/local/lib/python3.10/dist-packages (from alembic>=1.5.0->optuna) (4.11.0)\n",
            "Requirement already satisfied: greenlet!=0.4.17 in /usr/local/lib/python3.10/dist-packages (from sqlalchemy>=1.3.0->optuna) (3.0.3)\n",
            "Requirement already satisfied: MarkupSafe>=0.9.2 in /usr/local/lib/python3.10/dist-packages (from Mako->alembic>=1.5.0->optuna) (2.1.5)\n"
          ]
        }
      ]
    },
    {
      "cell_type": "code",
      "source": [
        "!pip install optuna-integration\n"
      ],
      "metadata": {
        "colab": {
          "base_uri": "https://localhost:8080/"
        },
        "id": "d_lnSi2XhaXo",
        "outputId": "26d65e70-9157-4c9e-f360-42ff22425979"
      },
      "execution_count": 2,
      "outputs": [
        {
          "output_type": "stream",
          "name": "stdout",
          "text": [
            "Requirement already satisfied: optuna-integration in /usr/local/lib/python3.10/dist-packages (3.6.0)\n",
            "Requirement already satisfied: optuna in /usr/local/lib/python3.10/dist-packages (from optuna-integration) (3.6.1)\n",
            "Requirement already satisfied: alembic>=1.5.0 in /usr/local/lib/python3.10/dist-packages (from optuna->optuna-integration) (1.13.1)\n",
            "Requirement already satisfied: colorlog in /usr/local/lib/python3.10/dist-packages (from optuna->optuna-integration) (6.8.2)\n",
            "Requirement already satisfied: numpy in /usr/local/lib/python3.10/dist-packages (from optuna->optuna-integration) (1.25.2)\n",
            "Requirement already satisfied: packaging>=20.0 in /usr/local/lib/python3.10/dist-packages (from optuna->optuna-integration) (24.0)\n",
            "Requirement already satisfied: sqlalchemy>=1.3.0 in /usr/local/lib/python3.10/dist-packages (from optuna->optuna-integration) (2.0.29)\n",
            "Requirement already satisfied: tqdm in /usr/local/lib/python3.10/dist-packages (from optuna->optuna-integration) (4.66.2)\n",
            "Requirement already satisfied: PyYAML in /usr/local/lib/python3.10/dist-packages (from optuna->optuna-integration) (6.0.1)\n",
            "Requirement already satisfied: Mako in /usr/local/lib/python3.10/dist-packages (from alembic>=1.5.0->optuna->optuna-integration) (1.3.3)\n",
            "Requirement already satisfied: typing-extensions>=4 in /usr/local/lib/python3.10/dist-packages (from alembic>=1.5.0->optuna->optuna-integration) (4.11.0)\n",
            "Requirement already satisfied: greenlet!=0.4.17 in /usr/local/lib/python3.10/dist-packages (from sqlalchemy>=1.3.0->optuna->optuna-integration) (3.0.3)\n",
            "Requirement already satisfied: MarkupSafe>=0.9.2 in /usr/local/lib/python3.10/dist-packages (from Mako->alembic>=1.5.0->optuna->optuna-integration) (2.1.5)\n"
          ]
        }
      ]
    },
    {
      "cell_type": "code",
      "source": [
        "import optuna\n",
        "from optuna.integration import OptunaSearchCV\n",
        "!pip install --upgrade optuna\n",
        "!pip install optuna-integration  # Only if required based on your version of Optuna\n"
      ],
      "metadata": {
        "colab": {
          "base_uri": "https://localhost:8080/"
        },
        "id": "cmh-M9urh1WA",
        "outputId": "dee75bea-08c9-46d9-91fd-bff3868bec79"
      },
      "execution_count": 3,
      "outputs": [
        {
          "output_type": "stream",
          "name": "stdout",
          "text": [
            "Requirement already satisfied: optuna in /usr/local/lib/python3.10/dist-packages (3.6.1)\n",
            "Requirement already satisfied: alembic>=1.5.0 in /usr/local/lib/python3.10/dist-packages (from optuna) (1.13.1)\n",
            "Requirement already satisfied: colorlog in /usr/local/lib/python3.10/dist-packages (from optuna) (6.8.2)\n",
            "Requirement already satisfied: numpy in /usr/local/lib/python3.10/dist-packages (from optuna) (1.25.2)\n",
            "Requirement already satisfied: packaging>=20.0 in /usr/local/lib/python3.10/dist-packages (from optuna) (24.0)\n",
            "Requirement already satisfied: sqlalchemy>=1.3.0 in /usr/local/lib/python3.10/dist-packages (from optuna) (2.0.29)\n",
            "Requirement already satisfied: tqdm in /usr/local/lib/python3.10/dist-packages (from optuna) (4.66.2)\n",
            "Requirement already satisfied: PyYAML in /usr/local/lib/python3.10/dist-packages (from optuna) (6.0.1)\n",
            "Requirement already satisfied: Mako in /usr/local/lib/python3.10/dist-packages (from alembic>=1.5.0->optuna) (1.3.3)\n",
            "Requirement already satisfied: typing-extensions>=4 in /usr/local/lib/python3.10/dist-packages (from alembic>=1.5.0->optuna) (4.11.0)\n",
            "Requirement already satisfied: greenlet!=0.4.17 in /usr/local/lib/python3.10/dist-packages (from sqlalchemy>=1.3.0->optuna) (3.0.3)\n",
            "Requirement already satisfied: MarkupSafe>=0.9.2 in /usr/local/lib/python3.10/dist-packages (from Mako->alembic>=1.5.0->optuna) (2.1.5)\n",
            "Requirement already satisfied: optuna-integration in /usr/local/lib/python3.10/dist-packages (3.6.0)\n",
            "Requirement already satisfied: optuna in /usr/local/lib/python3.10/dist-packages (from optuna-integration) (3.6.1)\n",
            "Requirement already satisfied: alembic>=1.5.0 in /usr/local/lib/python3.10/dist-packages (from optuna->optuna-integration) (1.13.1)\n",
            "Requirement already satisfied: colorlog in /usr/local/lib/python3.10/dist-packages (from optuna->optuna-integration) (6.8.2)\n",
            "Requirement already satisfied: numpy in /usr/local/lib/python3.10/dist-packages (from optuna->optuna-integration) (1.25.2)\n",
            "Requirement already satisfied: packaging>=20.0 in /usr/local/lib/python3.10/dist-packages (from optuna->optuna-integration) (24.0)\n",
            "Requirement already satisfied: sqlalchemy>=1.3.0 in /usr/local/lib/python3.10/dist-packages (from optuna->optuna-integration) (2.0.29)\n",
            "Requirement already satisfied: tqdm in /usr/local/lib/python3.10/dist-packages (from optuna->optuna-integration) (4.66.2)\n",
            "Requirement already satisfied: PyYAML in /usr/local/lib/python3.10/dist-packages (from optuna->optuna-integration) (6.0.1)\n",
            "Requirement already satisfied: Mako in /usr/local/lib/python3.10/dist-packages (from alembic>=1.5.0->optuna->optuna-integration) (1.3.3)\n",
            "Requirement already satisfied: typing-extensions>=4 in /usr/local/lib/python3.10/dist-packages (from alembic>=1.5.0->optuna->optuna-integration) (4.11.0)\n",
            "Requirement already satisfied: greenlet!=0.4.17 in /usr/local/lib/python3.10/dist-packages (from sqlalchemy>=1.3.0->optuna->optuna-integration) (3.0.3)\n",
            "Requirement already satisfied: MarkupSafe>=0.9.2 in /usr/local/lib/python3.10/dist-packages (from Mako->alembic>=1.5.0->optuna->optuna-integration) (2.1.5)\n"
          ]
        }
      ]
    },
    {
      "cell_type": "code",
      "source": [
        "import optuna\n",
        "from optuna.integration import OptunaSearchCV\n",
        "from sklearn.svm import SVC\n",
        "from sklearn.datasets import load_iris\n",
        "from sklearn.model_selection import train_test_split\n",
        "\n",
        "# Load data\n",
        "data, target = load_iris(return_X_y=True)\n",
        "X_train, X_test, y_train, y_test = train_test_split(data, target, test_size=0.2, random_state=42)\n",
        "\n",
        "# Define the model\n",
        "svc = SVC()\n",
        "\n",
        "# Define the parameter search space using FloatDistribution with log=True\n",
        "param_distributions = {\n",
        "    'C': optuna.distributions.FloatDistribution(1e-10, 1e10, log=True),\n",
        "    'gamma': optuna.distributions.FloatDistribution(1e-10, 1e10, log=True),\n",
        "    'kernel': optuna.distributions.CategoricalDistribution(['linear', 'poly', 'rbf', 'sigmoid'])\n",
        "}\n",
        "\n",
        "# Create the OptunaSearchCV object\n",
        "optuna_search = OptunaSearchCV(svc, param_distributions, n_trials=100, timeout=600,\n",
        "                               random_state=42, n_jobs=-1)\n",
        "\n",
        "# Fit the OptunaSearchCV to find the best model\n",
        "optuna_search.fit(X_train, y_train)\n",
        "\n",
        "# Check the best parameters\n",
        "print(\"Best parameters:\", optuna_search.best_params_)\n",
        "\n",
        "# Evaluate on the test data\n",
        "accuracy = optuna_search.score(X_test, y_test)\n",
        "print(\"Accuracy:\", accuracy)\n"
      ],
      "metadata": {
        "colab": {
          "base_uri": "https://localhost:8080/"
        },
        "id": "DKkIbFFliJm5",
        "outputId": "c8c82d17-2d12-4a8b-96b7-6cb6b80b66c9"
      },
      "execution_count": 4,
      "outputs": [
        {
          "output_type": "stream",
          "name": "stderr",
          "text": [
            "<ipython-input-4-c8596ae4baf1>:22: ExperimentalWarning: OptunaSearchCV is experimental (supported from v0.17.0). The interface can change in the future.\n",
            "  optuna_search = OptunaSearchCV(svc, param_distributions, n_trials=100, timeout=600,\n",
            "[I 2024-04-23 20:39:54,765] A new study created in memory with name: no-name-b30002c9-909f-4c4f-8a51-bc4b225ab17a\n",
            "[I 2024-04-23 20:39:54,841] Trial 1 finished with value: 0.95 and parameters: {'C': 0.28311346755498745, 'gamma': 0.07643987938864147, 'kernel': 'linear'}. Best is trial 1 with value: 0.95.\n",
            "[I 2024-04-23 20:39:54,921] Trial 2 finished with value: 0.32499999999999996 and parameters: {'C': 1.0148246057455819e-09, 'gamma': 20468.885825497113, 'kernel': 'sigmoid'}. Best is trial 1 with value: 0.95.\n",
            "[I 2024-04-23 20:39:55,014] Trial 3 finished with value: 0.45 and parameters: {'C': 334406.3005740225, 'gamma': 0.01794044083691237, 'kernel': 'sigmoid'}. Best is trial 1 with value: 0.95.\n",
            "[I 2024-04-23 20:39:57,168] Trial 0 finished with value: 0.9333333333333333 and parameters: {'C': 1.8976514135709325e-07, 'gamma': 951238.7158645154, 'kernel': 'poly'}. Best is trial 1 with value: 0.95.\n",
            "[I 2024-04-23 20:39:57,311] Trial 5 finished with value: 0.4666666666666666 and parameters: {'C': 3.592028761005807e-09, 'gamma': 0.02002000483664663, 'kernel': 'rbf'}. Best is trial 1 with value: 0.95.\n",
            "[I 2024-04-23 20:39:57,628] Trial 6 finished with value: 0.95 and parameters: {'C': 26264.510740076432, 'gamma': 47.21289840282934, 'kernel': 'linear'}. Best is trial 1 with value: 0.95.\n",
            "[I 2024-04-23 20:39:58,148] Trial 7 finished with value: 0.9416666666666668 and parameters: {'C': 454134739.8622558, 'gamma': 0.001778536656451197, 'kernel': 'poly'}. Best is trial 1 with value: 0.95.\n",
            "[I 2024-04-23 20:39:58,198] Trial 8 finished with value: 0.9583333333333334 and parameters: {'C': 0.3789018550202666, 'gamma': 154.91881257717156, 'kernel': 'linear'}. Best is trial 8 with value: 0.9583333333333334.\n",
            "[I 2024-04-23 20:39:58,255] Trial 9 finished with value: 0.425 and parameters: {'C': 0.003154471759513086, 'gamma': 0.009387580906954518, 'kernel': 'poly'}. Best is trial 8 with value: 0.9583333333333334.\n",
            "[I 2024-04-23 20:39:58,342] Trial 10 finished with value: 0.4583333333333333 and parameters: {'C': 2021.67223290537, 'gamma': 5.974702553871294e-10, 'kernel': 'sigmoid'}. Best is trial 8 with value: 0.9583333333333334.\n",
            "[I 2024-04-23 20:39:58,488] Trial 11 finished with value: 0.4583333333333333 and parameters: {'C': 1.6411496106350156e-05, 'gamma': 7447496236.462344, 'kernel': 'linear'}. Best is trial 8 with value: 0.9583333333333334.\n",
            "[I 2024-04-23 20:39:58,568] Trial 12 finished with value: 0.9583333333333334 and parameters: {'C': 1.8444457288248035, 'gamma': 339.9562337560342, 'kernel': 'linear'}. Best is trial 8 with value: 0.9583333333333334.\n",
            "[I 2024-04-23 20:39:58,649] Trial 4 finished with value: 0.9416666666666668 and parameters: {'C': 8.026477097371124e-07, 'gamma': 19043.088469846134, 'kernel': 'poly'}. Best is trial 8 with value: 0.9583333333333334.\n",
            "[I 2024-04-23 20:39:58,699] Trial 13 finished with value: 0.9583333333333334 and parameters: {'C': 1.7379109548323435, 'gamma': 783.8068252398566, 'kernel': 'linear'}. Best is trial 8 with value: 0.9583333333333334.\n",
            "[I 2024-04-23 20:39:58,779] Trial 14 finished with value: 0.9583333333333334 and parameters: {'C': 6.569439745155258, 'gamma': 8.887724809254481e-07, 'kernel': 'linear'}. Best is trial 8 with value: 0.9583333333333334.\n",
            "[I 2024-04-23 20:39:58,835] Trial 15 finished with value: 0.95 and parameters: {'C': 53.313591329835944, 'gamma': 3.476029220915039e-06, 'kernel': 'linear'}. Best is trial 8 with value: 0.9583333333333334.\n",
            "[I 2024-04-23 20:39:58,978] Trial 16 finished with value: 0.32499999999999996 and parameters: {'C': 0.0017693132378230456, 'gamma': 724858611.0507472, 'kernel': 'rbf'}. Best is trial 8 with value: 0.9583333333333334.\n",
            "[I 2024-04-23 20:39:59,022] Trial 17 finished with value: 0.32499999999999996 and parameters: {'C': 0.0031800920944909015, 'gamma': 165553211.72784472, 'kernel': 'rbf'}. Best is trial 8 with value: 0.9583333333333334.\n",
            "[I 2024-04-23 20:40:00,307] Trial 18 finished with value: 0.9333333333333332 and parameters: {'C': 4573766.02822813, 'gamma': 11821592.345734138, 'kernel': 'linear'}. Best is trial 8 with value: 0.9583333333333334.\n",
            "[I 2024-04-23 20:40:00,357] Trial 20 finished with value: 0.95 and parameters: {'C': 1432.638624077213, 'gamma': 5.464569920936045, 'kernel': 'linear'}. Best is trial 8 with value: 0.9583333333333334.\n",
            "[I 2024-04-23 20:40:00,404] Trial 19 finished with value: 0.9333333333333332 and parameters: {'C': 236745294.9070856, 'gamma': 48.21278973046702, 'kernel': 'linear'}. Best is trial 8 with value: 0.9583333333333334.\n",
            "[I 2024-04-23 20:40:00,415] Trial 21 finished with value: 0.9416666666666667 and parameters: {'C': 0.10206975145278084, 'gamma': 2142.107491493489, 'kernel': 'linear'}. Best is trial 8 with value: 0.9583333333333334.\n",
            "[I 2024-04-23 20:40:00,472] Trial 22 finished with value: 0.9416666666666668 and parameters: {'C': 26.37464068395975, 'gamma': 1555.8730117496743, 'kernel': 'linear'}. Best is trial 8 with value: 0.9583333333333334.\n",
            "[I 2024-04-23 20:40:00,500] Trial 23 finished with value: 0.95 and parameters: {'C': 76.7258468786637, 'gamma': 1088.5319861186395, 'kernel': 'linear'}. Best is trial 8 with value: 0.9583333333333334.\n",
            "[I 2024-04-23 20:40:00,553] Trial 24 finished with value: 0.95 and parameters: {'C': 0.19664852026700583, 'gamma': 825354.3464764163, 'kernel': 'linear'}. Best is trial 8 with value: 0.9583333333333334.\n",
            "[I 2024-04-23 20:40:00,590] Trial 25 finished with value: 0.9333333333333333 and parameters: {'C': 0.08348748466422165, 'gamma': 237431.9222427069, 'kernel': 'linear'}. Best is trial 8 with value: 0.9583333333333334.\n",
            "[I 2024-04-23 20:40:00,615] Trial 26 finished with value: 0.4583333333333333 and parameters: {'C': 0.0020460271523981607, 'gamma': 0.38110427528781904, 'kernel': 'linear'}. Best is trial 8 with value: 0.9583333333333334.\n",
            "[I 2024-04-23 20:40:00,678] Trial 28 finished with value: 0.4416666666666666 and parameters: {'C': 8.971687885915607e-06, 'gamma': 5.582795973101692, 'kernel': 'rbf'}. Best is trial 8 with value: 0.9583333333333334.\n",
            "[I 2024-04-23 20:40:00,698] Trial 27 finished with value: 0.425 and parameters: {'C': 0.00013427654802290303, 'gamma': 12.333290012353372, 'kernel': 'rbf'}. Best is trial 8 with value: 0.9583333333333334.\n",
            "[I 2024-04-23 20:40:00,763] Trial 29 finished with value: 0.95 and parameters: {'C': 1854.1480483763721, 'gamma': 0.00011975421200428046, 'kernel': 'sigmoid'}. Best is trial 8 with value: 0.9583333333333334.\n",
            "[I 2024-04-23 20:40:00,770] Trial 30 finished with value: 0.9666666666666666 and parameters: {'C': 1874.7989701195825, 'gamma': 0.0004308029513003823, 'kernel': 'sigmoid'}. Best is trial 30 with value: 0.9666666666666666.\n",
            "[I 2024-04-23 20:40:00,910] Trial 31 finished with value: 0.4583333333333333 and parameters: {'C': 2.9831088015545104, 'gamma': 7.620137465647876e-05, 'kernel': 'sigmoid'}. Best is trial 30 with value: 0.9666666666666666.\n",
            "[I 2024-04-23 20:40:00,916] Trial 32 finished with value: 0.3333333333333333 and parameters: {'C': 4.246867113625404, 'gamma': 272.92700346032353, 'kernel': 'sigmoid'}. Best is trial 30 with value: 0.9666666666666666.\n",
            "[I 2024-04-23 20:40:01,075] Trial 34 finished with value: 0.3333333333333333 and parameters: {'C': 49575.39438092154, 'gamma': 0.6901104468778079, 'kernel': 'sigmoid'}. Best is trial 30 with value: 0.9666666666666666.\n",
            "[I 2024-04-23 20:40:01,081] Trial 33 finished with value: 0.29999999999999993 and parameters: {'C': 84682.16916928845, 'gamma': 0.27946842348379003, 'kernel': 'sigmoid'}. Best is trial 30 with value: 0.9666666666666666.\n",
            "[I 2024-04-23 20:40:02,255] Trial 35 finished with value: 0.9416666666666668 and parameters: {'C': 416.65366249141886, 'gamma': 42605.65702697954, 'kernel': 'poly'}. Best is trial 30 with value: 0.9666666666666666.\n",
            "[I 2024-04-23 20:40:02,348] Trial 37 finished with value: 0.9583333333333334 and parameters: {'C': 0.6053298105255676, 'gamma': 21669.08456720311, 'kernel': 'linear'}. Best is trial 30 with value: 0.9666666666666666.\n",
            "[I 2024-04-23 20:40:02,487] Trial 38 finished with value: 0.95 and parameters: {'C': 11976798.25075529, 'gamma': 2.3795220137764135e-08, 'kernel': 'sigmoid'}. Best is trial 30 with value: 0.9666666666666666.\n",
            "[I 2024-04-23 20:40:02,619] Trial 36 finished with value: 0.9416666666666668 and parameters: {'C': 5037713.6324239895, 'gamma': 60703.53556607017, 'kernel': 'poly'}. Best is trial 30 with value: 0.9666666666666666.\n",
            "[I 2024-04-23 20:40:02,632] Trial 39 finished with value: 0.4583333333333333 and parameters: {'C': 3.0598542337442773e-08, 'gamma': 6753587.070472576, 'kernel': 'linear'}. Best is trial 30 with value: 0.9666666666666666.\n",
            "[I 2024-04-23 20:40:02,862] Trial 41 finished with value: 0.9166666666666667 and parameters: {'C': 0.020558348185428572, 'gamma': 0.002321950684107695, 'kernel': 'linear'}. Best is trial 30 with value: 0.9666666666666666.\n",
            "[I 2024-04-23 20:40:02,980] Trial 42 finished with value: 0.9583333333333334 and parameters: {'C': 3.1618872795569777, 'gamma': 2.538022492319642e-07, 'kernel': 'linear'}. Best is trial 30 with value: 0.9666666666666666.\n",
            "[I 2024-04-23 20:40:02,992] Trial 40 finished with value: 0.9583333333333334 and parameters: {'C': 10046.267091866564, 'gamma': 0.0010178778653985201, 'kernel': 'linear'}. Best is trial 30 with value: 0.9666666666666666.\n",
            "[I 2024-04-23 20:40:03,183] Trial 43 finished with value: 0.95 and parameters: {'C': 14.639345790200833, 'gamma': 9.835134548896167e-06, 'kernel': 'linear'}. Best is trial 30 with value: 0.9666666666666666.\n",
            "[I 2024-04-23 20:40:03,173] Trial 44 finished with value: 0.95 and parameters: {'C': 17.73962955399744, 'gamma': 1.4781834421587314e-06, 'kernel': 'linear'}. Best is trial 30 with value: 0.9666666666666666.\n",
            "[I 2024-04-23 20:40:03,469] Trial 45 finished with value: 0.425 and parameters: {'C': 175.32730220792942, 'gamma': 8.69725673449571e-08, 'kernel': 'poly'}. Best is trial 30 with value: 0.9666666666666666.\n",
            "[I 2024-04-23 20:40:03,472] Trial 46 finished with value: 0.32499999999999996 and parameters: {'C': 0.02042535852512528, 'gamma': 1.922164488912099e-10, 'kernel': 'poly'}. Best is trial 30 with value: 0.9666666666666666.\n",
            "[I 2024-04-23 20:40:03,681] Trial 48 finished with value: 0.3333333333333333 and parameters: {'C': 0.000407142535370747, 'gamma': 155.53337656373506, 'kernel': 'sigmoid'}. Best is trial 30 with value: 0.9666666666666666.\n",
            "[I 2024-04-23 20:40:03,697] Trial 47 finished with value: 0.29999999999999993 and parameters: {'C': 0.00012884060937747046, 'gamma': 0.047968315596496815, 'kernel': 'sigmoid'}. Best is trial 30 with value: 0.9666666666666666.\n",
            "[I 2024-04-23 20:40:03,827] Trial 49 finished with value: 0.9666666666666666 and parameters: {'C': 0.860502696499734, 'gamma': 8.016346074044455e-05, 'kernel': 'linear'}. Best is trial 30 with value: 0.9666666666666666.\n",
            "[I 2024-04-23 20:40:03,862] Trial 50 finished with value: 0.95 and parameters: {'C': 1.0845461829608283, 'gamma': 4.92557422318537e-09, 'kernel': 'linear'}. Best is trial 30 with value: 0.9666666666666666.\n",
            "[I 2024-04-23 20:40:03,983] Trial 51 finished with value: 0.4583333333333333 and parameters: {'C': 1.4281515655503548e-10, 'gamma': 6.132070337279762e-05, 'kernel': 'linear'}. Best is trial 30 with value: 0.9666666666666666.\n",
            "[I 2024-04-23 20:40:04,007] Trial 52 finished with value: 0.95 and parameters: {'C': 389.79798926169497, 'gamma': 5.024216835430484e-05, 'kernel': 'linear'}. Best is trial 30 with value: 0.9666666666666666.\n",
            "[I 2024-04-23 20:40:04,166] Trial 53 finished with value: 0.9333333333333333 and parameters: {'C': 0.03166449063943845, 'gamma': 0.0006296556977503303, 'kernel': 'linear'}. Best is trial 30 with value: 0.9666666666666666.\n",
            "[I 2024-04-23 20:40:04,270] Trial 54 finished with value: 0.9166666666666667 and parameters: {'C': 0.02058972729013868, 'gamma': 3134.939289037588, 'kernel': 'linear'}. Best is trial 30 with value: 0.9666666666666666.\n",
            "[I 2024-04-23 20:40:04,359] Trial 55 finished with value: 0.9583333333333334 and parameters: {'C': 0.5890283960121611, 'gamma': 3159.8804476061914, 'kernel': 'linear'}. Best is trial 30 with value: 0.9666666666666666.\n",
            "[I 2024-04-23 20:40:04,448] Trial 56 finished with value: 0.9583333333333334 and parameters: {'C': 0.6259746070544214, 'gamma': 1.4041556832536844e-06, 'kernel': 'linear'}. Best is trial 30 with value: 0.9666666666666666.\n",
            "[I 2024-04-23 20:40:04,552] Trial 57 finished with value: 0.95 and parameters: {'C': 9016.762061501542, 'gamma': 0.010672672519411156, 'kernel': 'rbf'}. Best is trial 30 with value: 0.9666666666666666.\n",
            "[I 2024-04-23 20:40:04,679] Trial 58 finished with value: 0.9416666666666667 and parameters: {'C': 3911.785787987722, 'gamma': 0.01678588579764145, 'kernel': 'rbf'}. Best is trial 30 with value: 0.9666666666666666.\n",
            "[I 2024-04-23 20:40:06,085] Trial 60 finished with value: 0.9333333333333332 and parameters: {'C': 865706.2207966651, 'gamma': 35.18545738661017, 'kernel': 'linear'}. Best is trial 30 with value: 0.9666666666666666.\n",
            "[I 2024-04-23 20:40:06,212] Trial 61 finished with value: 0.95 and parameters: {'C': 83.69731932220692, 'gamma': 369.2175184532878, 'kernel': 'linear'}. Best is trial 30 with value: 0.9666666666666666.\n",
            "[I 2024-04-23 20:40:06,356] Trial 59 finished with value: 0.9333333333333332 and parameters: {'C': 512480.0851636227, 'gamma': 28.634823036610353, 'kernel': 'linear'}. Best is trial 30 with value: 0.9666666666666666.\n",
            "[I 2024-04-23 20:40:06,387] Trial 62 finished with value: 0.9666666666666668 and parameters: {'C': 4.501731978313354, 'gamma': 7913.912399446442, 'kernel': 'linear'}. Best is trial 62 with value: 0.9666666666666668.\n",
            "[I 2024-04-23 20:40:06,467] Trial 63 finished with value: 0.9666666666666668 and parameters: {'C': 3.5909713744331335, 'gamma': 15181.98120309255, 'kernel': 'linear'}. Best is trial 62 with value: 0.9666666666666668.\n",
            "[I 2024-04-23 20:40:06,510] Trial 64 finished with value: 0.9666666666666668 and parameters: {'C': 4.7636160501730584, 'gamma': 2.7324120512402135, 'kernel': 'linear'}. Best is trial 62 with value: 0.9666666666666668.\n",
            "[I 2024-04-23 20:40:06,609] Trial 65 finished with value: 0.95 and parameters: {'C': 0.1666681659200617, 'gamma': 8861.327462363044, 'kernel': 'linear'}. Best is trial 62 with value: 0.9666666666666668.\n",
            "[I 2024-04-23 20:40:06,637] Trial 66 finished with value: 0.95 and parameters: {'C': 13.951752835378882, 'gamma': 4.137694930407292, 'kernel': 'linear'}. Best is trial 62 with value: 0.9666666666666668.\n",
            "[I 2024-04-23 20:40:06,732] Trial 67 finished with value: 0.95 and parameters: {'C': 14.237721107796757, 'gamma': 6.657647558507058, 'kernel': 'linear'}. Best is trial 62 with value: 0.9666666666666668.\n",
            "[I 2024-04-23 20:40:06,811] Trial 68 finished with value: 0.7666666666666667 and parameters: {'C': 0.006166119107411533, 'gamma': 96.55428987273076, 'kernel': 'linear'}. Best is trial 62 with value: 0.9666666666666668.\n",
            "[I 2024-04-23 20:40:06,894] Trial 69 finished with value: 0.3333333333333333 and parameters: {'C': 446.10122170599624, 'gamma': 724542.8675543204, 'kernel': 'sigmoid'}. Best is trial 62 with value: 0.9666666666666668.\n",
            "[I 2024-04-23 20:40:06,950] Trial 70 finished with value: 0.3333333333333333 and parameters: {'C': 412.5711187856951, 'gamma': 2.037841305266974, 'kernel': 'sigmoid'}. Best is trial 62 with value: 0.9666666666666668.\n",
            "[I 2024-04-23 20:40:07,038] Trial 71 finished with value: 0.95 and parameters: {'C': 57.945681294713395, 'gamma': 162483.2083404454, 'kernel': 'linear'}. Best is trial 62 with value: 0.9666666666666668.\n",
            "[I 2024-04-23 20:40:07,073] Trial 72 finished with value: 0.9583333333333334 and parameters: {'C': 2.06488716052883, 'gamma': 168367.74386173705, 'kernel': 'linear'}. Best is trial 62 with value: 0.9666666666666668.\n",
            "[I 2024-04-23 20:40:07,191] Trial 73 finished with value: 0.9666666666666668 and parameters: {'C': 3.84409802083234, 'gamma': 670.0492616220542, 'kernel': 'linear'}. Best is trial 62 with value: 0.9666666666666668.\n",
            "[I 2024-04-23 20:40:07,289] Trial 74 finished with value: 0.9333333333333333 and parameters: {'C': 0.0806954016138267, 'gamma': 629.9803681721323, 'kernel': 'linear'}. Best is trial 62 with value: 0.9666666666666668.\n",
            "[I 2024-04-23 20:40:07,394] Trial 75 finished with value: 0.95 and parameters: {'C': 0.14784383950837293, 'gamma': 611.7255102436911, 'kernel': 'linear'}. Best is trial 62 with value: 0.9666666666666668.\n",
            "[I 2024-04-23 20:40:07,470] Trial 76 finished with value: 0.9583333333333334 and parameters: {'C': 0.3350470795741809, 'gamma': 0.18746954870168456, 'kernel': 'linear'}. Best is trial 62 with value: 0.9666666666666668.\n",
            "[I 2024-04-23 20:40:07,631] Trial 78 finished with value: 0.9583333333333334 and parameters: {'C': 5.268519152600193, 'gamma': 16561.948814300657, 'kernel': 'linear'}. Best is trial 62 with value: 0.9666666666666668.\n",
            "[I 2024-04-23 20:40:10,343] Trial 77 finished with value: 0.9333333333333332 and parameters: {'C': 9306716005.118845, 'gamma': 0.15513669802743443, 'kernel': 'linear'}. Best is trial 62 with value: 0.9666666666666668.\n",
            "[I 2024-04-23 20:40:12,086] Trial 79 finished with value: 0.9416666666666668 and parameters: {'C': 50.87073113054972, 'gamma': 8551582.948926317, 'kernel': 'poly'}. Best is trial 62 with value: 0.9666666666666668.\n",
            "[I 2024-04-23 20:40:12,286] Trial 81 finished with value: 0.4416666666666666 and parameters: {'C': 0.0006294059014594645, 'gamma': 4250.7614541582, 'kernel': 'rbf'}. Best is trial 62 with value: 0.9666666666666668.\n",
            "[I 2024-04-23 20:40:12,458] Trial 82 finished with value: 0.9583333333333334 and parameters: {'C': 1.762025425306788, 'gamma': 101.41888623314168, 'kernel': 'linear'}. Best is trial 62 with value: 0.9666666666666668.\n",
            "[I 2024-04-23 20:40:12,635] Trial 83 finished with value: 0.9583333333333334 and parameters: {'C': 6.697023637988072, 'gamma': 23.655866625818383, 'kernel': 'linear'}. Best is trial 62 with value: 0.9666666666666668.\n",
            "[I 2024-04-23 20:40:12,943] Trial 84 finished with value: 0.9333333333333333 and parameters: {'C': 0.06872896364978473, 'gamma': 1132.7278825483158, 'kernel': 'linear'}. Best is trial 62 with value: 0.9666666666666668.\n",
            "[I 2024-04-23 20:40:13,110] Trial 85 finished with value: 0.875 and parameters: {'C': 0.00814005934825723, 'gamma': 8668.35222575398, 'kernel': 'linear'}. Best is trial 62 with value: 0.9666666666666668.\n",
            "[I 2024-04-23 20:40:13,306] Trial 86 finished with value: 0.32499999999999996 and parameters: {'C': 0.7214280489309788, 'gamma': 0.8235564428436627, 'kernel': 'sigmoid'}. Best is trial 62 with value: 0.9666666666666668.\n",
            "[I 2024-04-23 20:40:13,535] Trial 87 finished with value: 0.95 and parameters: {'C': 145.67198274112232, 'gamma': 184.03308705773057, 'kernel': 'linear'}. Best is trial 62 with value: 0.9666666666666668.\n",
            "[I 2024-04-23 20:40:13,760] Trial 88 finished with value: 0.9416666666666668 and parameters: {'C': 29.06232408725346, 'gamma': 37394.44583990124, 'kernel': 'linear'}. Best is trial 62 with value: 0.9666666666666668.\n",
            "[I 2024-04-23 20:40:14,024] Trial 89 finished with value: 0.9583333333333334 and parameters: {'C': 5.737582960585418, 'gamma': 0.056953819818548156, 'kernel': 'linear'}. Best is trial 62 with value: 0.9666666666666668.\n",
            "[I 2024-04-23 20:40:14,230] Trial 90 finished with value: 0.95 and parameters: {'C': 923.0626741403295, 'gamma': 0.00041586760044886077, 'kernel': 'linear'}. Best is trial 62 with value: 0.9666666666666668.\n",
            "[I 2024-04-23 20:40:15,151] Trial 80 finished with value: 0.9416666666666668 and parameters: {'C': 0.006541026720900153, 'gamma': 4828571.383175362, 'kernel': 'poly'}. Best is trial 62 with value: 0.9666666666666668.\n",
            "[I 2024-04-23 20:40:15,337] Trial 92 finished with value: 0.9583333333333334 and parameters: {'C': 1.4685427435633136, 'gamma': 4.1243787683833977e-07, 'kernel': 'linear'}. Best is trial 62 with value: 0.9666666666666668.\n",
            "[I 2024-04-23 20:40:15,403] Trial 93 finished with value: 0.95 and parameters: {'C': 0.26021480161895527, 'gamma': 1.4847463370945796e-05, 'kernel': 'linear'}. Best is trial 62 with value: 0.9666666666666668.\n",
            "[I 2024-04-23 20:40:15,594] Trial 94 finished with value: 0.9583333333333334 and parameters: {'C': 2.3428459898616696, 'gamma': 0.0045166938758307235, 'kernel': 'linear'}. Best is trial 62 with value: 0.9666666666666668.\n",
            "[I 2024-04-23 20:40:15,755] Trial 95 finished with value: 0.95 and parameters: {'C': 9.448484149703631, 'gamma': 0.00020509779306417605, 'kernel': 'linear'}. Best is trial 62 with value: 0.9666666666666668.\n",
            "[I 2024-04-23 20:40:15,925] Trial 96 finished with value: 0.4583333333333333 and parameters: {'C': 0.047207621323145155, 'gamma': 1.4180171589643776e-05, 'kernel': 'sigmoid'}. Best is trial 62 with value: 0.9666666666666668.\n",
            "[I 2024-04-23 20:40:16,067] Trial 97 finished with value: 0.9583333333333334 and parameters: {'C': 0.40430682042109367, 'gamma': 11.166480433724892, 'kernel': 'linear'}. Best is trial 62 with value: 0.9666666666666668.\n",
            "[I 2024-04-23 20:40:16,177] Trial 98 finished with value: 0.9416666666666668 and parameters: {'C': 27.7156607722243, 'gamma': 1718.098258880557, 'kernel': 'linear'}. Best is trial 62 with value: 0.9666666666666668.\n",
            "[I 2024-04-23 20:40:16,362] Trial 99 finished with value: 0.4416666666666666 and parameters: {'C': 148.26370896500842, 'gamma': 9.675806646055945e-09, 'kernel': 'rbf'}. Best is trial 62 with value: 0.9666666666666668.\n",
            "[I 2024-04-23 20:40:16,781] Trial 91 finished with value: 0.9333333333333333 and parameters: {'C': 1.4113552379872574, 'gamma': 14.82181057612561, 'kernel': 'poly'}. Best is trial 62 with value: 0.9666666666666668.\n"
          ]
        },
        {
          "output_type": "stream",
          "name": "stdout",
          "text": [
            "Best parameters: {'C': 4.501731978313354, 'gamma': 7913.912399446442, 'kernel': 'linear'}\n",
            "Accuracy: 0.9666666666666667\n"
          ]
        }
      ]
    },
    {
      "cell_type": "code",
      "source": [
        "import pandas as pd\n",
        "from sklearn.model_selection import train_test_split, RandomizedSearchCV\n",
        "from sklearn.ensemble import RandomForestClassifier\n",
        "from sklearn.metrics import accuracy_score\n",
        "import optuna\n",
        "from optuna.integration import OptunaSearchCV\n",
        "\n",
        "# Загрузка данных\n",
        "df = pd.read_csv('banana_quality.csv')\n",
        "\n",
        "# Подготовка данных\n",
        "# Предположим, что у нас есть бинарная переменная 'Quality'\n",
        "df['Quality'] = df['Quality'].apply(lambda x: 1 if x == 'Good' else 0)\n",
        "\n",
        "X = df.drop('Quality', axis=1)\n",
        "y = df['Quality']\n",
        "\n",
        "# Разделение данных\n",
        "X_train, X_test, y_train, y_test = train_test_split(X, y, test_size=0.2, random_state=42)\n",
        "\n",
        "# Базовая модель\n",
        "model = RandomForestClassifier(random_state=42)\n",
        "model.fit(X_train, y_train)\n",
        "base_pred = model.predict(X_test)\n",
        "base_accuracy = accuracy_score(y_test, base_pred)\n",
        "\n",
        "# Подбор гиперпараметров с использованием Optuna\n",
        "def objective(trial):\n",
        "    param = {\n",
        "        'n_estimators': trial.suggest_int('n_estimators', 100, 700),\n",
        "        'max_depth': trial.suggest_int('max_depth', 3, 20),\n",
        "        'min_samples_split': trial.suggest_int('min_samples_split', 2, 15),\n",
        "        'min_samples_leaf': trial.suggest_int('min_samples_leaf', 1, 10)\n",
        "    }\n",
        "\n",
        "    model = RandomForestClassifier(**param)\n",
        "    model.fit(X_train, y_train)\n",
        "    preds = model.predict(X_test)\n",
        "    accuracy = accuracy_score(y_test, preds)\n",
        "    return accuracy\n",
        "\n",
        "study = optuna.create_study(direction='maximize')\n",
        "study.optimize(objective, n_trials=100)\n",
        "\n",
        "# Обучение модели с лучшими параметрами\n",
        "params = study.best_params\n",
        "best_model = RandomForestClassifier(**params)\n",
        "best_model.fit(X_train, y_train)\n",
        "best_pred = best_model.predict(X_test)\n",
        "best_accuracy = accuracy_score(y_test, best_pred)\n",
        "\n",
        "# Результаты\n",
        "print(f'Base Model Accuracy: {base_accuracy}')\n",
        "print(f'Tuned Model Accuracy: {best_accuracy}')\n",
        "print(f'Best Parameters: {params}')\n"
      ],
      "metadata": {
        "colab": {
          "base_uri": "https://localhost:8080/"
        },
        "id": "FOywEEergoeB",
        "outputId": "e8e66eb8-02a8-4bd4-8cdd-6197b5e13d7d"
      },
      "execution_count": 5,
      "outputs": [
        {
          "output_type": "stream",
          "name": "stderr",
          "text": [
            "[I 2024-04-23 20:40:20,082] A new study created in memory with name: no-name-a2e580b1-fdad-46b3-a007-a765d0834c9e\n",
            "[I 2024-04-23 20:40:31,716] Trial 0 finished with value: 0.973125 and parameters: {'n_estimators': 328, 'max_depth': 14, 'min_samples_split': 8, 'min_samples_leaf': 4}. Best is trial 0 with value: 0.973125.\n",
            "[I 2024-04-23 20:40:47,111] Trial 1 finished with value: 0.934375 and parameters: {'n_estimators': 494, 'max_depth': 4, 'min_samples_split': 6, 'min_samples_leaf': 5}. Best is trial 0 with value: 0.973125.\n",
            "[I 2024-04-23 20:40:56,594] Trial 2 finished with value: 0.945 and parameters: {'n_estimators': 285, 'max_depth': 5, 'min_samples_split': 10, 'min_samples_leaf': 2}. Best is trial 0 with value: 0.973125.\n",
            "[I 2024-04-23 20:41:03,614] Trial 3 finished with value: 0.969375 and parameters: {'n_estimators': 169, 'max_depth': 14, 'min_samples_split': 6, 'min_samples_leaf': 10}. Best is trial 0 with value: 0.973125.\n",
            "[I 2024-04-23 20:41:13,637] Trial 4 finished with value: 0.966875 and parameters: {'n_estimators': 198, 'max_depth': 13, 'min_samples_split': 10, 'min_samples_leaf': 10}. Best is trial 0 with value: 0.973125.\n",
            "[I 2024-04-23 20:41:31,602] Trial 5 finished with value: 0.973125 and parameters: {'n_estimators': 644, 'max_depth': 12, 'min_samples_split': 10, 'min_samples_leaf': 2}. Best is trial 0 with value: 0.973125.\n",
            "[I 2024-04-23 20:41:37,885] Trial 6 finished with value: 0.970625 and parameters: {'n_estimators': 410, 'max_depth': 13, 'min_samples_split': 10, 'min_samples_leaf': 8}. Best is trial 0 with value: 0.973125.\n",
            "[I 2024-04-23 20:41:43,572] Trial 7 finished with value: 0.969375 and parameters: {'n_estimators': 440, 'max_depth': 9, 'min_samples_split': 2, 'min_samples_leaf': 2}. Best is trial 0 with value: 0.973125.\n",
            "[I 2024-04-23 20:41:47,203] Trial 8 finished with value: 0.931875 and parameters: {'n_estimators': 397, 'max_depth': 4, 'min_samples_split': 13, 'min_samples_leaf': 4}. Best is trial 0 with value: 0.973125.\n",
            "[I 2024-04-23 20:41:55,088] Trial 9 finished with value: 0.959375 and parameters: {'n_estimators': 675, 'max_depth': 7, 'min_samples_split': 14, 'min_samples_leaf': 4}. Best is trial 0 with value: 0.973125.\n",
            "[I 2024-04-23 20:41:59,450] Trial 10 finished with value: 0.970625 and parameters: {'n_estimators': 296, 'max_depth': 19, 'min_samples_split': 6, 'min_samples_leaf': 7}. Best is trial 0 with value: 0.973125.\n",
            "[I 2024-04-23 20:42:08,890] Trial 11 finished with value: 0.975625 and parameters: {'n_estimators': 597, 'max_depth': 17, 'min_samples_split': 8, 'min_samples_leaf': 1}. Best is trial 11 with value: 0.975625.\n",
            "[I 2024-04-23 20:42:18,924] Trial 12 finished with value: 0.976875 and parameters: {'n_estimators': 557, 'max_depth': 18, 'min_samples_split': 7, 'min_samples_leaf': 1}. Best is trial 12 with value: 0.976875.\n",
            "[I 2024-04-23 20:42:27,770] Trial 13 finished with value: 0.97625 and parameters: {'n_estimators': 557, 'max_depth': 19, 'min_samples_split': 3, 'min_samples_leaf': 1}. Best is trial 12 with value: 0.976875.\n",
            "[I 2024-04-23 20:42:36,044] Trial 14 finished with value: 0.97625 and parameters: {'n_estimators': 547, 'max_depth': 20, 'min_samples_split': 2, 'min_samples_leaf': 1}. Best is trial 12 with value: 0.976875.\n",
            "[I 2024-04-23 20:42:44,566] Trial 15 finished with value: 0.974375 and parameters: {'n_estimators': 539, 'max_depth': 16, 'min_samples_split': 4, 'min_samples_leaf': 3}. Best is trial 12 with value: 0.976875.\n",
            "[I 2024-04-23 20:42:55,077] Trial 16 finished with value: 0.970625 and parameters: {'n_estimators': 700, 'max_depth': 17, 'min_samples_split': 4, 'min_samples_leaf': 6}. Best is trial 12 with value: 0.976875.\n",
            "[I 2024-04-23 20:43:05,710] Trial 17 finished with value: 0.975625 and parameters: {'n_estimators': 603, 'max_depth': 19, 'min_samples_split': 4, 'min_samples_leaf': 1}. Best is trial 12 with value: 0.976875.\n",
            "[I 2024-04-23 20:43:12,595] Trial 18 finished with value: 0.971875 and parameters: {'n_estimators': 500, 'max_depth': 10, 'min_samples_split': 12, 'min_samples_leaf': 3}. Best is trial 12 with value: 0.976875.\n",
            "[I 2024-04-23 20:43:22,127] Trial 19 finished with value: 0.97375 and parameters: {'n_estimators': 607, 'max_depth': 16, 'min_samples_split': 5, 'min_samples_leaf': 3}. Best is trial 12 with value: 0.976875.\n",
            "[I 2024-04-23 20:43:23,729] Trial 20 finished with value: 0.968125 and parameters: {'n_estimators': 113, 'max_depth': 20, 'min_samples_split': 7, 'min_samples_leaf': 8}. Best is trial 12 with value: 0.976875.\n",
            "[I 2024-04-23 20:43:33,587] Trial 21 finished with value: 0.975625 and parameters: {'n_estimators': 539, 'max_depth': 20, 'min_samples_split': 2, 'min_samples_leaf': 1}. Best is trial 12 with value: 0.976875.\n",
            "[I 2024-04-23 20:43:41,635] Trial 22 finished with value: 0.975625 and parameters: {'n_estimators': 546, 'max_depth': 18, 'min_samples_split': 2, 'min_samples_leaf': 1}. Best is trial 12 with value: 0.976875.\n",
            "[I 2024-04-23 20:43:50,006] Trial 23 finished with value: 0.973125 and parameters: {'n_estimators': 458, 'max_depth': 20, 'min_samples_split': 3, 'min_samples_leaf': 2}. Best is trial 12 with value: 0.976875.\n",
            "[I 2024-04-23 20:43:59,190] Trial 24 finished with value: 0.976875 and parameters: {'n_estimators': 576, 'max_depth': 15, 'min_samples_split': 3, 'min_samples_leaf': 1}. Best is trial 12 with value: 0.976875.\n",
            "[I 2024-04-23 20:44:08,559] Trial 25 finished with value: 0.975 and parameters: {'n_estimators': 643, 'max_depth': 16, 'min_samples_split': 5, 'min_samples_leaf': 3}. Best is trial 12 with value: 0.976875.\n",
            "[I 2024-04-23 20:44:14,642] Trial 26 finished with value: 0.975625 and parameters: {'n_estimators': 364, 'max_depth': 15, 'min_samples_split': 3, 'min_samples_leaf': 2}. Best is trial 12 with value: 0.976875.\n",
            "[I 2024-04-23 20:44:21,937] Trial 27 finished with value: 0.97125 and parameters: {'n_estimators': 490, 'max_depth': 18, 'min_samples_split': 5, 'min_samples_leaf': 5}. Best is trial 12 with value: 0.976875.\n",
            "[I 2024-04-23 20:44:31,167] Trial 28 finished with value: 0.976875 and parameters: {'n_estimators': 585, 'max_depth': 18, 'min_samples_split': 7, 'min_samples_leaf': 1}. Best is trial 12 with value: 0.976875.\n",
            "[I 2024-04-23 20:44:41,107] Trial 29 finished with value: 0.973125 and parameters: {'n_estimators': 651, 'max_depth': 14, 'min_samples_split': 7, 'min_samples_leaf': 4}. Best is trial 12 with value: 0.976875.\n",
            "[I 2024-04-23 20:44:49,927] Trial 30 finished with value: 0.973125 and parameters: {'n_estimators': 585, 'max_depth': 11, 'min_samples_split': 9, 'min_samples_leaf': 2}. Best is trial 12 with value: 0.976875.\n",
            "[I 2024-04-23 20:44:58,267] Trial 31 finished with value: 0.975 and parameters: {'n_estimators': 570, 'max_depth': 18, 'min_samples_split': 7, 'min_samples_leaf': 1}. Best is trial 12 with value: 0.976875.\n",
            "[I 2024-04-23 20:45:06,271] Trial 32 finished with value: 0.975625 and parameters: {'n_estimators': 488, 'max_depth': 17, 'min_samples_split': 9, 'min_samples_leaf': 1}. Best is trial 12 with value: 0.976875.\n",
            "[I 2024-04-23 20:45:15,909] Trial 33 finished with value: 0.973125 and parameters: {'n_estimators': 625, 'max_depth': 15, 'min_samples_split': 3, 'min_samples_leaf': 3}. Best is trial 12 with value: 0.976875.\n",
            "[I 2024-04-23 20:45:23,242] Trial 34 finished with value: 0.975625 and parameters: {'n_estimators': 504, 'max_depth': 19, 'min_samples_split': 6, 'min_samples_leaf': 2}. Best is trial 12 with value: 0.976875.\n",
            "[I 2024-04-23 20:45:30,630] Trial 35 finished with value: 0.976875 and parameters: {'n_estimators': 456, 'max_depth': 18, 'min_samples_split': 12, 'min_samples_leaf': 1}. Best is trial 12 with value: 0.976875.\n",
            "[I 2024-04-23 20:45:37,027] Trial 36 finished with value: 0.973125 and parameters: {'n_estimators': 450, 'max_depth': 15, 'min_samples_split': 15, 'min_samples_leaf': 2}. Best is trial 12 with value: 0.976875.\n",
            "[I 2024-04-23 20:45:42,946] Trial 37 finished with value: 0.97375 and parameters: {'n_estimators': 367, 'max_depth': 13, 'min_samples_split': 11, 'min_samples_leaf': 2}. Best is trial 12 with value: 0.976875.\n",
            "[I 2024-04-23 20:45:50,086] Trial 38 finished with value: 0.970625 and parameters: {'n_estimators': 523, 'max_depth': 17, 'min_samples_split': 11, 'min_samples_leaf': 9}. Best is trial 12 with value: 0.976875.\n",
            "[I 2024-04-23 20:45:56,575] Trial 39 finished with value: 0.971875 and parameters: {'n_estimators': 414, 'max_depth': 18, 'min_samples_split': 8, 'min_samples_leaf': 5}. Best is trial 12 with value: 0.976875.\n",
            "[I 2024-04-23 20:46:04,135] Trial 40 finished with value: 0.973125 and parameters: {'n_estimators': 473, 'max_depth': 14, 'min_samples_split': 13, 'min_samples_leaf': 1}. Best is trial 12 with value: 0.976875.\n",
            "[I 2024-04-23 20:46:13,236] Trial 41 finished with value: 0.975 and parameters: {'n_estimators': 571, 'max_depth': 19, 'min_samples_split': 8, 'min_samples_leaf': 1}. Best is trial 12 with value: 0.976875.\n",
            "[I 2024-04-23 20:46:21,990] Trial 42 finished with value: 0.974375 and parameters: {'n_estimators': 556, 'max_depth': 16, 'min_samples_split': 11, 'min_samples_leaf': 2}. Best is trial 12 with value: 0.976875.\n",
            "[I 2024-04-23 20:46:29,483] Trial 43 finished with value: 0.976875 and parameters: {'n_estimators': 517, 'max_depth': 18, 'min_samples_split': 6, 'min_samples_leaf': 1}. Best is trial 12 with value: 0.976875.\n",
            "[I 2024-04-23 20:46:36,329] Trial 44 finished with value: 0.975 and parameters: {'n_estimators': 426, 'max_depth': 18, 'min_samples_split': 6, 'min_samples_leaf': 3}. Best is trial 12 with value: 0.976875.\n",
            "[I 2024-04-23 20:46:44,532] Trial 45 finished with value: 0.975 and parameters: {'n_estimators': 519, 'max_depth': 17, 'min_samples_split': 9, 'min_samples_leaf': 2}. Best is trial 12 with value: 0.976875.\n",
            "[I 2024-04-23 20:46:51,060] Trial 46 finished with value: 0.95625 and parameters: {'n_estimators': 621, 'max_depth': 6, 'min_samples_split': 7, 'min_samples_leaf': 1}. Best is trial 12 with value: 0.976875.\n",
            "[I 2024-04-23 20:46:56,831] Trial 47 finished with value: 0.975625 and parameters: {'n_estimators': 387, 'max_depth': 12, 'min_samples_split': 5, 'min_samples_leaf': 1}. Best is trial 12 with value: 0.976875.\n",
            "[I 2024-04-23 20:47:06,743] Trial 48 finished with value: 0.973125 and parameters: {'n_estimators': 673, 'max_depth': 15, 'min_samples_split': 6, 'min_samples_leaf': 4}. Best is trial 12 with value: 0.976875.\n",
            "[I 2024-04-23 20:47:10,527] Trial 49 finished with value: 0.966875 and parameters: {'n_estimators': 262, 'max_depth': 8, 'min_samples_split': 8, 'min_samples_leaf': 2}. Best is trial 12 with value: 0.976875.\n",
            "[I 2024-04-23 20:47:19,256] Trial 50 finished with value: 0.975 and parameters: {'n_estimators': 584, 'max_depth': 16, 'min_samples_split': 10, 'min_samples_leaf': 1}. Best is trial 12 with value: 0.976875.\n",
            "[I 2024-04-23 20:47:27,464] Trial 51 finished with value: 0.975625 and parameters: {'n_estimators': 517, 'max_depth': 19, 'min_samples_split': 4, 'min_samples_leaf': 1}. Best is trial 12 with value: 0.976875.\n",
            "[I 2024-04-23 20:47:34,402] Trial 52 finished with value: 0.975 and parameters: {'n_estimators': 461, 'max_depth': 20, 'min_samples_split': 7, 'min_samples_leaf': 1}. Best is trial 12 with value: 0.976875.\n",
            "[I 2024-04-23 20:47:42,952] Trial 53 finished with value: 0.97125 and parameters: {'n_estimators': 564, 'max_depth': 19, 'min_samples_split': 3, 'min_samples_leaf': 6}. Best is trial 12 with value: 0.976875.\n",
            "[I 2024-04-23 20:47:52,778] Trial 54 finished with value: 0.97625 and parameters: {'n_estimators': 609, 'max_depth': 17, 'min_samples_split': 4, 'min_samples_leaf': 2}. Best is trial 12 with value: 0.976875.\n",
            "[I 2024-04-23 20:48:00,699] Trial 55 finished with value: 0.974375 and parameters: {'n_estimators': 525, 'max_depth': 18, 'min_samples_split': 6, 'min_samples_leaf': 1}. Best is trial 12 with value: 0.976875.\n",
            "[I 2024-04-23 20:48:08,070] Trial 56 finished with value: 0.973125 and parameters: {'n_estimators': 476, 'max_depth': 19, 'min_samples_split': 5, 'min_samples_leaf': 3}. Best is trial 12 with value: 0.976875.\n",
            "[I 2024-04-23 20:48:18,313] Trial 57 finished with value: 0.975625 and parameters: {'n_estimators': 645, 'max_depth': 18, 'min_samples_split': 2, 'min_samples_leaf': 1}. Best is trial 12 with value: 0.976875.\n",
            "[I 2024-04-23 20:48:26,244] Trial 58 finished with value: 0.97375 and parameters: {'n_estimators': 546, 'max_depth': 20, 'min_samples_split': 13, 'min_samples_leaf': 2}. Best is trial 12 with value: 0.976875.\n",
            "[I 2024-04-23 20:48:35,387] Trial 59 finished with value: 0.9725 and parameters: {'n_estimators': 596, 'max_depth': 17, 'min_samples_split': 15, 'min_samples_leaf': 1}. Best is trial 12 with value: 0.976875.\n",
            "[I 2024-04-23 20:48:40,353] Trial 60 finished with value: 0.914375 and parameters: {'n_estimators': 671, 'max_depth': 3, 'min_samples_split': 4, 'min_samples_leaf': 7}. Best is trial 12 with value: 0.976875.\n",
            "[I 2024-04-23 20:48:48,487] Trial 61 finished with value: 0.976875 and parameters: {'n_estimators': 537, 'max_depth': 20, 'min_samples_split': 2, 'min_samples_leaf': 1}. Best is trial 12 with value: 0.976875.\n",
            "[I 2024-04-23 20:48:57,768] Trial 62 finished with value: 0.976875 and parameters: {'n_estimators': 578, 'max_depth': 20, 'min_samples_split': 3, 'min_samples_leaf': 1}. Best is trial 12 with value: 0.976875.\n",
            "[I 2024-04-23 20:49:06,326] Trial 63 finished with value: 0.97625 and parameters: {'n_estimators': 536, 'max_depth': 20, 'min_samples_split': 2, 'min_samples_leaf': 1}. Best is trial 12 with value: 0.976875.\n",
            "[I 2024-04-23 20:49:15,145] Trial 64 finished with value: 0.97625 and parameters: {'n_estimators': 582, 'max_depth': 19, 'min_samples_split': 3, 'min_samples_leaf': 2}. Best is trial 12 with value: 0.976875.\n",
            "[I 2024-04-23 20:49:23,385] Trial 65 finished with value: 0.97625 and parameters: {'n_estimators': 504, 'max_depth': 20, 'min_samples_split': 3, 'min_samples_leaf': 2}. Best is trial 12 with value: 0.976875.\n",
            "[I 2024-04-23 20:49:33,529] Trial 66 finished with value: 0.976875 and parameters: {'n_estimators': 636, 'max_depth': 18, 'min_samples_split': 2, 'min_samples_leaf': 1}. Best is trial 12 with value: 0.976875.\n",
            "[I 2024-04-23 20:49:42,698] Trial 67 finished with value: 0.97375 and parameters: {'n_estimators': 615, 'max_depth': 16, 'min_samples_split': 4, 'min_samples_leaf': 3}. Best is trial 12 with value: 0.976875.\n",
            "[I 2024-04-23 20:49:49,732] Trial 68 finished with value: 0.96625 and parameters: {'n_estimators': 432, 'max_depth': 19, 'min_samples_split': 8, 'min_samples_leaf': 10}. Best is trial 12 with value: 0.976875.\n",
            "[I 2024-04-23 20:49:59,306] Trial 69 finished with value: 0.97625 and parameters: {'n_estimators': 565, 'max_depth': 20, 'min_samples_split': 5, 'min_samples_leaf': 1}. Best is trial 12 with value: 0.976875.\n",
            "[I 2024-04-23 20:50:06,315] Trial 70 finished with value: 0.975625 and parameters: {'n_estimators': 478, 'max_depth': 18, 'min_samples_split': 7, 'min_samples_leaf': 2}. Best is trial 12 with value: 0.976875.\n",
            "[I 2024-04-23 20:50:17,346] Trial 71 finished with value: 0.97625 and parameters: {'n_estimators': 696, 'max_depth': 18, 'min_samples_split': 2, 'min_samples_leaf': 1}. Best is trial 12 with value: 0.976875.\n",
            "[I 2024-04-23 20:50:27,417] Trial 72 finished with value: 0.97625 and parameters: {'n_estimators': 628, 'max_depth': 17, 'min_samples_split': 2, 'min_samples_leaf': 1}. Best is trial 12 with value: 0.976875.\n",
            "[I 2024-04-23 20:50:37,090] Trial 73 finished with value: 0.97625 and parameters: {'n_estimators': 594, 'max_depth': 18, 'min_samples_split': 2, 'min_samples_leaf': 1}. Best is trial 12 with value: 0.976875.\n",
            "[I 2024-04-23 20:50:46,641] Trial 74 finished with value: 0.975625 and parameters: {'n_estimators': 655, 'max_depth': 19, 'min_samples_split': 3, 'min_samples_leaf': 2}. Best is trial 12 with value: 0.976875.\n",
            "[I 2024-04-23 20:50:55,363] Trial 75 finished with value: 0.976875 and parameters: {'n_estimators': 534, 'max_depth': 20, 'min_samples_split': 3, 'min_samples_leaf': 1}. Best is trial 12 with value: 0.976875.\n",
            "[I 2024-04-23 20:51:05,238] Trial 76 finished with value: 0.975625 and parameters: {'n_estimators': 634, 'max_depth': 16, 'min_samples_split': 6, 'min_samples_leaf': 2}. Best is trial 12 with value: 0.976875.\n",
            "[I 2024-04-23 20:51:12,569] Trial 77 finished with value: 0.975625 and parameters: {'n_estimators': 505, 'max_depth': 17, 'min_samples_split': 12, 'min_samples_leaf': 1}. Best is trial 12 with value: 0.976875.\n",
            "[I 2024-04-23 20:51:21,198] Trial 78 finished with value: 0.975 and parameters: {'n_estimators': 554, 'max_depth': 15, 'min_samples_split': 14, 'min_samples_leaf': 1}. Best is trial 12 with value: 0.976875.\n",
            "[I 2024-04-23 20:51:30,171] Trial 79 finished with value: 0.975 and parameters: {'n_estimators': 578, 'max_depth': 19, 'min_samples_split': 9, 'min_samples_leaf': 2}. Best is trial 12 with value: 0.976875.\n",
            "[I 2024-04-23 20:51:38,950] Trial 80 finished with value: 0.974375 and parameters: {'n_estimators': 601, 'max_depth': 13, 'min_samples_split': 4, 'min_samples_leaf': 1}. Best is trial 12 with value: 0.976875.\n",
            "[I 2024-04-23 20:51:47,770] Trial 81 finished with value: 0.975625 and parameters: {'n_estimators': 540, 'max_depth': 20, 'min_samples_split': 2, 'min_samples_leaf': 1}. Best is trial 12 with value: 0.976875.\n",
            "[I 2024-04-23 20:51:56,195] Trial 82 finished with value: 0.9775 and parameters: {'n_estimators': 522, 'max_depth': 18, 'min_samples_split': 3, 'min_samples_leaf': 1}. Best is trial 82 with value: 0.9775.\n",
            "[I 2024-04-23 20:52:03,839] Trial 83 finished with value: 0.976875 and parameters: {'n_estimators': 515, 'max_depth': 18, 'min_samples_split': 3, 'min_samples_leaf': 1}. Best is trial 82 with value: 0.9775.\n",
            "[I 2024-04-23 20:52:11,150] Trial 84 finished with value: 0.971875 and parameters: {'n_estimators': 493, 'max_depth': 10, 'min_samples_split': 3, 'min_samples_leaf': 1}. Best is trial 82 with value: 0.9775.\n",
            "[I 2024-04-23 20:52:17,418] Trial 85 finished with value: 0.969375 and parameters: {'n_estimators': 453, 'max_depth': 14, 'min_samples_split': 7, 'min_samples_leaf': 9}. Best is trial 82 with value: 0.9775.\n",
            "[I 2024-04-23 20:52:26,268] Trial 86 finished with value: 0.974375 and parameters: {'n_estimators': 559, 'max_depth': 17, 'min_samples_split': 2, 'min_samples_leaf': 2}. Best is trial 82 with value: 0.9775.\n",
            "[I 2024-04-23 20:52:35,513] Trial 87 finished with value: 0.97625 and parameters: {'n_estimators': 575, 'max_depth': 18, 'min_samples_split': 4, 'min_samples_leaf': 1}. Best is trial 82 with value: 0.9775.\n",
            "[I 2024-04-23 20:52:37,177] Trial 88 finished with value: 0.97375 and parameters: {'n_estimators': 114, 'max_depth': 16, 'min_samples_split': 8, 'min_samples_leaf': 2}. Best is trial 82 with value: 0.9775.\n",
            "[I 2024-04-23 20:52:46,582] Trial 89 finished with value: 0.97625 and parameters: {'n_estimators': 590, 'max_depth': 19, 'min_samples_split': 2, 'min_samples_leaf': 1}. Best is trial 82 with value: 0.9775.\n",
            "[I 2024-04-23 20:52:54,169] Trial 90 finished with value: 0.97625 and parameters: {'n_estimators': 528, 'max_depth': 19, 'min_samples_split': 10, 'min_samples_leaf': 1}. Best is trial 82 with value: 0.9775.\n",
            "[I 2024-04-23 20:53:03,059] Trial 91 finished with value: 0.975625 and parameters: {'n_estimators': 533, 'max_depth': 20, 'min_samples_split': 3, 'min_samples_leaf': 1}. Best is trial 82 with value: 0.9775.\n",
            "[I 2024-04-23 20:53:12,322] Trial 92 finished with value: 0.976875 and parameters: {'n_estimators': 544, 'max_depth': 20, 'min_samples_split': 3, 'min_samples_leaf': 1}. Best is trial 82 with value: 0.9775.\n",
            "[I 2024-04-23 20:53:19,407] Trial 93 finished with value: 0.973125 and parameters: {'n_estimators': 486, 'max_depth': 12, 'min_samples_split': 5, 'min_samples_leaf': 1}. Best is trial 82 with value: 0.9775.\n",
            "[I 2024-04-23 20:53:27,562] Trial 94 finished with value: 0.975 and parameters: {'n_estimators': 509, 'max_depth': 18, 'min_samples_split': 3, 'min_samples_leaf': 2}. Best is trial 82 with value: 0.9775.\n",
            "[I 2024-04-23 20:53:37,299] Trial 95 finished with value: 0.975625 and parameters: {'n_estimators': 607, 'max_depth': 17, 'min_samples_split': 2, 'min_samples_leaf': 1}. Best is trial 82 with value: 0.9775.\n",
            "[I 2024-04-23 20:53:46,432] Trial 96 finished with value: 0.975625 and parameters: {'n_estimators': 555, 'max_depth': 19, 'min_samples_split': 6, 'min_samples_leaf': 1}. Best is trial 82 with value: 0.9775.\n",
            "[I 2024-04-23 20:53:54,022] Trial 97 finished with value: 0.97625 and parameters: {'n_estimators': 466, 'max_depth': 18, 'min_samples_split': 4, 'min_samples_leaf': 2}. Best is trial 82 with value: 0.9775.\n",
            "[I 2024-04-23 20:54:03,268] Trial 98 finished with value: 0.97625 and parameters: {'n_estimators': 573, 'max_depth': 19, 'min_samples_split': 3, 'min_samples_leaf': 1}. Best is trial 82 with value: 0.9775.\n",
            "[I 2024-04-23 20:54:11,894] Trial 99 finished with value: 0.97125 and parameters: {'n_estimators': 619, 'max_depth': 20, 'min_samples_split': 4, 'min_samples_leaf': 6}. Best is trial 82 with value: 0.9775.\n"
          ]
        },
        {
          "output_type": "stream",
          "name": "stdout",
          "text": [
            "Base Model Accuracy: 0.975\n",
            "Tuned Model Accuracy: 0.975625\n",
            "Best Parameters: {'n_estimators': 522, 'max_depth': 18, 'min_samples_split': 3, 'min_samples_leaf': 1}\n"
          ]
        }
      ]
    },
    {
      "cell_type": "code",
      "source": [
        "from sklearn.metrics import accuracy_score\n",
        "\n",
        "# Предполагается, что `X_train`, `X_test`, `y_train`, `y_test` уже определены\n",
        "\n",
        "# Обучение модели с лучшими параметрами, найденными Optuna\n",
        "best_model = SVC(**optuna_search.best_params_)\n",
        "best_model.fit(X_train, y_train)\n",
        "\n",
        "# Предсказание на тестовой выборке\n",
        "predictions = best_model.predict(X_test)\n",
        "\n",
        "# Оценка модели\n",
        "accuracy = accuracy_score(y_test, predictions)\n",
        "print(f\"Точность модели на тестовой выборке: {accuracy}\")\n"
      ],
      "metadata": {
        "id": "Vy3LS_HAoMYl",
        "outputId": "e4af7f73-5161-4047-9fa3-eabfbac1ae87",
        "colab": {
          "base_uri": "https://localhost:8080/"
        }
      },
      "execution_count": 6,
      "outputs": [
        {
          "output_type": "stream",
          "name": "stdout",
          "text": [
            "Точность модели на тестовой выборке: 0.879375\n"
          ]
        }
      ]
    },
    {
      "cell_type": "code",
      "source": [
        "!pip install shap"
      ],
      "metadata": {
        "id": "gg7jD38GphVE",
        "outputId": "6c38d583-42e6-48ab-c258-0afee4f43504",
        "colab": {
          "base_uri": "https://localhost:8080/"
        }
      },
      "execution_count": 7,
      "outputs": [
        {
          "output_type": "stream",
          "name": "stdout",
          "text": [
            "Requirement already satisfied: shap in /usr/local/lib/python3.10/dist-packages (0.45.0)\n",
            "Requirement already satisfied: numpy in /usr/local/lib/python3.10/dist-packages (from shap) (1.25.2)\n",
            "Requirement already satisfied: scipy in /usr/local/lib/python3.10/dist-packages (from shap) (1.11.4)\n",
            "Requirement already satisfied: scikit-learn in /usr/local/lib/python3.10/dist-packages (from shap) (1.2.2)\n",
            "Requirement already satisfied: pandas in /usr/local/lib/python3.10/dist-packages (from shap) (2.0.3)\n",
            "Requirement already satisfied: tqdm>=4.27.0 in /usr/local/lib/python3.10/dist-packages (from shap) (4.66.2)\n",
            "Requirement already satisfied: packaging>20.9 in /usr/local/lib/python3.10/dist-packages (from shap) (24.0)\n",
            "Requirement already satisfied: slicer==0.0.7 in /usr/local/lib/python3.10/dist-packages (from shap) (0.0.7)\n",
            "Requirement already satisfied: numba in /usr/local/lib/python3.10/dist-packages (from shap) (0.58.1)\n",
            "Requirement already satisfied: cloudpickle in /usr/local/lib/python3.10/dist-packages (from shap) (2.2.1)\n",
            "Requirement already satisfied: llvmlite<0.42,>=0.41.0dev0 in /usr/local/lib/python3.10/dist-packages (from numba->shap) (0.41.1)\n",
            "Requirement already satisfied: python-dateutil>=2.8.2 in /usr/local/lib/python3.10/dist-packages (from pandas->shap) (2.8.2)\n",
            "Requirement already satisfied: pytz>=2020.1 in /usr/local/lib/python3.10/dist-packages (from pandas->shap) (2023.4)\n",
            "Requirement already satisfied: tzdata>=2022.1 in /usr/local/lib/python3.10/dist-packages (from pandas->shap) (2024.1)\n",
            "Requirement already satisfied: joblib>=1.1.1 in /usr/local/lib/python3.10/dist-packages (from scikit-learn->shap) (1.4.0)\n",
            "Requirement already satisfied: threadpoolctl>=2.0.0 in /usr/local/lib/python3.10/dist-packages (from scikit-learn->shap) (3.4.0)\n",
            "Requirement already satisfied: six>=1.5 in /usr/local/lib/python3.10/dist-packages (from python-dateutil>=2.8.2->pandas->shap) (1.16.0)\n"
          ]
        }
      ]
    },
    {
      "cell_type": "code",
      "source": [
        "import shap\n",
        "\n",
        "# Создаем объект Explainer с помощью ядра (kernel), подходящего для модели SVC\n",
        "explainer = shap.KernelExplainer(best_model.predict, X_train.sample(100))\n",
        "shap_values = explainer.shap_values(X_train.sample(100))\n",
        "\n",
        "# Визуализация средних абсолютных значений SHAP для каждого признака\n",
        "shap.summary_plot(shap_values, X_train.sample(100), plot_type=\"bar\")\n"
      ],
      "metadata": {
        "id": "kVeAThClpJsc",
        "outputId": "0587485d-3305-419f-c481-fee4f2b39ba4",
        "colab": {
          "base_uri": "https://localhost:8080/",
          "height": 469,
          "referenced_widgets": [
            "81fd414280bb499f9578f1ee846e2824",
            "b3874a2796464e66a1e19277b4dccee2",
            "5bc768583ab54095bca44d56b785db78",
            "bc577c26ffe14511a2d2404f0c99d113",
            "c0107fc816534dad87505c906b66bfff",
            "f9cf882ba797482793e27422050fcdd1",
            "f35a5ac98c6c43d0acc93a9dda834061",
            "34e8e586b04a4f0abf974a2ea4802918",
            "ea1d0945b90e4f7a8200257370d79e51",
            "f85130ea970b43e2b08865cbc2d06b9b",
            "f6b2def081c6422fbfecd28ea052868d"
          ]
        }
      },
      "execution_count": 9,
      "outputs": [
        {
          "output_type": "display_data",
          "data": {
            "text/plain": [
              "  0%|          | 0/100 [00:00<?, ?it/s]"
            ],
            "application/vnd.jupyter.widget-view+json": {
              "version_major": 2,
              "version_minor": 0,
              "model_id": "81fd414280bb499f9578f1ee846e2824"
            }
          },
          "metadata": {}
        },
        {
          "output_type": "display_data",
          "data": {
            "text/plain": [
              "<Figure size 800x430 with 1 Axes>"
            ],
            "image/png": "[encoded data removed]"
          },
          "metadata": {}
        }
      ]
    },
    {
      "cell_type": "code",
      "source": [
        "from sklearn.inspection import permutation_importance\n",
        "import matplotlib.pyplot as plt\n",
        "# Вычисление важности признаков на основе перестановок\n",
        "perm_importance = permutation_importance(best_model, X_test, y_test, n_repeats=10, random_state=42)\n",
        "\n",
        "sorted_idx = perm_importance.importances_mean.argsort()\n",
        "plt.barh(X_train.columns[sorted_idx], perm_importance.importances_mean[sorted_idx])\n",
        "plt.xlabel(\"Permutation Importance\")\n",
        "plt.show()\n"
      ],
      "metadata": {
        "id": "ffeK_U72p45l",
        "outputId": "29371349-8acf-4040-d781-7f6f930f3f43",
        "colab": {
          "base_uri": "https://localhost:8080/",
          "height": 449
        }
      },
      "execution_count": 13,
      "outputs": [
        {
          "output_type": "display_data",
          "data": {
            "text/plain": [
              "<Figure size 640x480 with 1 Axes>"
            ],
            "image/png": "[encoded data removed]"
          },
          "metadata": {}
        }
      ]
    }
  ]
}